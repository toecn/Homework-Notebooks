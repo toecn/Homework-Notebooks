{
 "cells": [
  {
   "cell_type": "markdown",
   "metadata": {},
   "source": [
    "# Nicolás Torres-Echeverry:\n",
    "# Homework 3 - Sampling & Reliability\n",
    "\n",
    "Up until this week, we have assumed that the corpus you have used for analysis assignments represented a *meaningful* assemblage of texts from which reasonable inferences could be drawn about the social game, social world and social actors that produced it. \n",
    "\n",
    "This week, we ask you to build a corpus for preliminary analysis and articulate what your sample represents in context of your final project. We begin by exploring how we can get *human* readings of content at scale. We want to gather and utilize human responses for several reasons. First, we may want to use crowdsourced human scores as the primary method of coding, extracting or organizing content (as it was in two of the assigned readings). Second, we may want to validate or tune a computational algorithm we may have developed in terms of how it is associated with human meanings or experience. Finally, we may want to use human coding on a sample of data as the basis for training a model or algorithm to then extrapolate *human-like* annotations to the entire population. Here intelligent sampling is critical to maximize effective maching training. \n",
    "\n",
    "For this notebook we will be using the following packages"
   ]
  },
  {
   "cell_type": "code",
   "execution_count": 1,
   "metadata": {},
   "outputs": [],
   "source": [
    "#Special module written for this class\n",
    "#This provides access to data and to helper functions from previous weeks\n",
    "#Make sure you update it before starting this notebook\n",
    "import lucem_illud #pip install -U git+git://github.com/UChicago-Computational-Content-Analysis/lucem_illud.git\n",
    "\n",
    "#All these packages need to be installed from pip\n",
    "import numpy as np #For arrays\n",
    "import scipy as sp #For some stats\n",
    "import pandas #Gives us DataFrames\n",
    "import matplotlib.pyplot as plt #For graphics\n",
    "import seaborn #Makes the graphics look nicer\n",
    "import pyanno #On python3 make sure to pip install pyanno3\n",
    "\n",
    "#We need to import these this way due to how pyanno is setup\n",
    "from pyanno.measures import pairwise_matrix, agreement, cohens_kappa, cohens_weighted_kappa, fleiss_kappa, krippendorffs_alpha, pearsons_rho, scotts_pi, spearmans_rho\n",
    "from pyanno.annotations import AnnotationsContainer\n",
    "from pyanno.models import ModelA, ModelBt, ModelB\n",
    "\n",
    "from functools import reduce\n",
    "from itertools import permutations\n",
    "import math\n",
    "\n",
    "\n",
    "#This 'magic' command makes the plots work better\n",
    "#in the notebook, don't use it outside of a notebook.\n",
    "#Also you can ignore the warning\n",
    "%matplotlib inline\n",
    "\n",
    "import os #For looking through files\n",
    "import os.path #For managing file paths"
   ]
  },
  {
   "cell_type": "markdown",
   "metadata": {},
   "source": [
    "## <span style=\"color:red\">*Pitch the Domain of your Project*</span>\n",
    "\n",
    "In the two cells immediately following, describe **WHAT** you are planning to analyze for your final project (i.e., texts, contexts and the social game, world and actors you intend to learn about through your analysis) (<200 words) and **WHY** you are going to do it (i.e., why would theory and/or the average person benefit from knowing the results of your investigation) (<200 words)? [**Note**: your individual or collective project can change over the course of the quarter if new data and/or analysis opportunities arise or if old ones fade away.]"
   ]
  },
  {
   "cell_type": "markdown",
   "metadata": {},
   "source": [
    "## ***What?*** \n",
    "\n",
    "###    *What can computational content analysis teach us about the cultural context of reception that makes political candidates appealing or not?*\n"
   ]
  },
  {
   "cell_type": "markdown",
   "metadata": {},
   "source": [
    "## ***Why?***\n",
    "\n",
    "Studies on political rhetoric have centered on politicians and how politicians speak. We know less about the cultural context of reception and the conditions under which a politician's rhetoric is successful. This research centers on this context. By employing computational methods, it characterizes the reception context around politicians who participated in presidential elections in Latin America during 2010-2020."
   ]
  },
  {
   "cell_type": "markdown",
   "metadata": {},
   "source": [
    "## <span style=\"color:red\">*Pitch Your Sample*</span>\n",
    "\n",
    "In the cell immediately following, describe the rationale behind your proposed sample design for your final project. What is the social game, social work, or social actors about whom you are seeking to make inferences? What are its virtues with respect to your research questions? What are its limitations? What are alternatives? What would be a reasonable path to \"scale up\" your sample for further analysis (i.e., high-profile publication)? (<200 words).\n",
    "\n",
    "\n"
   ]
  },
  {
   "cell_type": "markdown",
   "metadata": {},
   "source": [
    "I employ a Spanish corpus of 2 B words, approximately 2 M pages, and 200.000 websites. The corpus was collected in late 2015 from the websites of 21 countries in the region. The corpus provides data on how people were talking about politicians. Source: https://www.corpusdelespanol.org/web-dial/\n",
    "\n",
    "What is hard here is:\n",
    "1. To define what this corpus represents.\n",
    "2. To deal with time and differentiate changes in time around the candidate.\n",
    "\n",
    "Possible solutions:\n",
    "1. Considering that the corpus might represent a distribution that skews towards higher income and educated people, and overrepresent the websites that appear more often in it, what matters in the **diversity** of the language in which the candidates'' names appear.\n",
    "2. Maybe there are ways to deal with the issue of time and get a sense of the variation over time. Perhaps, I can track the latest date that appears in the text [taking into account that 2015 is the latest year that can show up]. \n",
    "\n",
    "The sample could be expanded using other web corpora like Sketch Engine, Corpora from the Web (COW - ESCOW14)."
   ]
  },
  {
   "cell_type": "markdown",
   "metadata": {},
   "source": [
    "## <span style=\"color:red\">*Your turn: Annotating text*</span>\n",
    "\n",
    "Perform a content annotation survey of some kind in which at least 3 people evaluate and code each piece of content, using Amazon Mechanical Turk as described in the MTurk slides in the Assignment link on Canvas, or by hand with friends.  With the resulting data, calculate, visualize and discuss inter-coder agreement or covariation with appropriate metrics. What does this means for the reliability of human assessments regarding content in your domain?"
   ]
  },
  {
   "cell_type": "code",
   "execution_count": 3,
   "metadata": {},
   "outputs": [],
   "source": [
    "corpus = pandas.read_csv('2020_11_13_text_test.csv')"
   ]
  },
  {
   "cell_type": "code",
   "execution_count": 4,
   "metadata": {},
   "outputs": [
    {
     "data": {
      "text/plain": [
       "(3868, 9)"
      ]
     },
     "execution_count": 4,
     "metadata": {},
     "output_type": "execute_result"
    }
   ],
   "source": [
    "corpus.shape"
   ]
  },
  {
   "cell_type": "code",
   "execution_count": 5,
   "metadata": {},
   "outputs": [
    {
     "data": {
      "text/plain": [
       "Index(['Unnamed: 0', 'Title', 'Genre', 'Country', 'Website', 'URL',\n",
       "       'Number of words', 'Tokenized Words', 'Text'],\n",
       "      dtype='object')"
      ]
     },
     "execution_count": 5,
     "metadata": {},
     "output_type": "execute_result"
    }
   ],
   "source": [
    "corpus.columns"
   ]
  },
  {
   "cell_type": "code",
   "execution_count": 6,
   "metadata": {},
   "outputs": [],
   "source": [
    "uribe = corpus[corpus[\"Text\"].str.contains(\"Uribe\")]\n",
    "correa = corpus[corpus[\"Text\"].str.contains(\"Correa\")]\n",
    "morales = corpus[corpus[\"Text\"].str.contains(\"Evo Morales\")]\n",
    "bachelet = corpus[corpus[\"Text\"].str.contains(\"Bachelet\")]"
   ]
  },
  {
   "cell_type": "code",
   "execution_count": 7,
   "metadata": {},
   "outputs": [
    {
     "name": "stdout",
     "output_type": "stream",
     "text": [
      "uribe df: (12, 9)\n",
      "correa df: (365, 9)\n",
      "evo df: (19, 9)\n",
      "bachelet df: (7, 9)\n"
     ]
    }
   ],
   "source": [
    "print(\"uribe df:\", uribe.shape)\n",
    "print(\"correa df:\", correa.shape)\n",
    "print(\"evo df:\", morales.shape)\n",
    "print(\"bachelet df:\", bachelet.shape)"
   ]
  },
  {
   "cell_type": "code",
   "execution_count": 8,
   "metadata": {},
   "outputs": [
    {
     "data": {
      "text/plain": [
       "425     http://blogs.monografias.com/editorial/2008/07...\n",
       "714     http://ecuadorsincensura.blogspot.com/2008/06/...\n",
       "739     http://ecuadorsincensura.blogspot.com/2010/01/...\n",
       "789     http://el-ecuatoriano.blogspot.com/2008/03/jam...\n",
       "941        http://fernandobalda.wordpress.com/2012/08/18/\n",
       "1657    http://notioro.blogspot.com/2013/07/normal-0-2...\n",
       "1827    http://politico.ec/de-prensa-banana-a-banana-l...\n",
       "1940    http://revistazonalibre.blogspot.com/2012/11/c...\n",
       "2183    http://www.180latitudes.org/analisis/reflexion...\n",
       "2188    http://tinku.org/la-colombia-que-sangra-y-resi...\n",
       "2190    http://tinku.org/para-cortarle-alas-al-golpism...\n",
       "2215        http://tripamishqui.com/category/carlos-vera/\n",
       "Name: URL, dtype: object"
      ]
     },
     "execution_count": 8,
     "metadata": {},
     "output_type": "execute_result"
    }
   ],
   "source": [
    "uribe[\"URL\"]"
   ]
  },
  {
   "cell_type": "code",
   "execution_count": 9,
   "metadata": {},
   "outputs": [
    {
     "data": {
      "text/plain": [
       "1       http://acoso-textual.blogspot.com/2011/04/varg...\n",
       "31                      http://accionyreaccion.com/?p=565\n",
       "36                      http://accionyreaccion.com/?p=644\n",
       "62      http://alejo-ab-intra.blogspot.com/2010/09/man...\n",
       "113     http://andresmartinez.wordpress.com/2011/04/14...\n",
       "                              ...                        \n",
       "3826    http://www.vicepresidencia.gob.ec/austria-coop...\n",
       "3829    http://www.vicepresidencia.gob.ec/ecuatorianos...\n",
       "3830    http://www.vicepresidencia.gob.ec/el-primer-ci...\n",
       "3832    http://www.vicepresidencia.gob.ec/entrega-de-p...\n",
       "3838    http://www.vivedeporte.com/2013/05/29/se-super...\n",
       "Name: URL, Length: 365, dtype: object"
      ]
     },
     "execution_count": 9,
     "metadata": {},
     "output_type": "execute_result"
    }
   ],
   "source": [
    "correa[\"URL\"]"
   ]
  },
  {
   "cell_type": "code",
   "execution_count": 10,
   "metadata": {},
   "outputs": [
    {
     "data": {
      "text/plain": [
       "'El Presidente del Estado , Evo Morales , denunció en su discurso de el 6 de agosto , pronunciado desde Cochabamba , que en el país existen medios de comunicación chilenos que provocan conflictos internos . Aunque no especificó qué medios serían propiedad de Chile o de capitales chilenos en Bolivia , Morales dijo que su actividad ayuda a incentivar las discrepancias políticas internas . El Presidente hizo esa afirmación cuando se refería a la demanda boliviana contra su vecino en la Corte Internacional de Justicia en La Haya . El discurso presidencial sirvió también para atribuir a los medios de comunicación las fallas de información de el Instituto Nacional de Estadísticas ( INE ) que entregó , mediante el Presidente , en enero de este año , datos sobre el crecimiento y la distribución poblacional que seis meses después resultaron errados . Morales dijo que como los medios hicieron insinuaciones , entonces el gobierno decidió adelantar los datos preliminares . \\r\\n'"
      ]
     },
     "execution_count": 10,
     "metadata": {},
     "output_type": "execute_result"
    }
   ],
   "source": [
    "morales[\"Text\"][1772]"
   ]
  },
  {
   "cell_type": "code",
   "execution_count": 11,
   "metadata": {},
   "outputs": [
    {
     "data": {
      "text/plain": [
       "'En Chile entre 1990 y 2006 hemos observado una disminución en la pobreza . Sin embargo , en los últimos cinco años ésta se ha estancado en torno a el 15 % . Históricamente ha existido una mayor proporción de mujeres pobres que de hombres pobres , aun después de ajustar los datos a el hecho de que en Chile hay ligeramente más mujeres que hombres . Sin embargo , esta tendencia se dispara en el año 2006 , se mantiene durante el período de la Presidenta Bachelet y alcanza niveles record en los últimos dos años . Según la Casen 2011 entre las personas pobres 1.074.455 eran hombres y 1.372.899 mujeres , casi 28 % de mayor pobreza entre las mujeres . ¿ Por qué está pasando esto en Chile ? Una posible explicación es la escolaridad , pero encontramos que entre los pobres las mujeres y los hombres tienen niveles de escolaridad muy parecidos ( 9,7 y 9,5 años respectivamente ) . Otra posible respuesta es comparar los hogares . En los hogares pobres más de la mitad tiene jefa de hogar y de éstas , @ @ @ @ @ @ @ @ @ @ . Al contrario , cinco de cada seis hogares pobres con jefatura masculina , comparte con una pareja el hogar . En cuanto a la vinculación a el mercado laboral , solo la mitad de las mujeres pobres que son jefas de hogar participa de la fuerza de trabajo como ocupada o desocupada pero buscando empleo , mientras que entre los hombres pobres esta cifra aumenta a cuatro de cada cinco jefes de hogar pobres . A el comparar con jefes de hogares fuera de la pobreza , la tasa de participación laboral aumenta considerablemente , en hombres nueve de cada diez participan , mientras que en mujeres a seis de cada diez . Cuando miramos los miembros de los hogares pobres con edad entre 15 y 65 años , cuatro de cada cinco mujeres pobres no participa en el mercado laboral en comparación con dos de cada cinco hombres pobres . Entre las personas fuera de la pobreza , la mitad de las mujeres participa en el mercado laboral , a el igual que cuatro de cada cinco hombres . Existen 580 mil mujeres pobres que no participan de el @ @ @ @ @ @ @ @ @ @ trabajado alguna vez , la mitad responde que sí . Además , cuando se consulta si estarían disponibles para trabajar si les ofrecieran un trabajo , casi 40 % estarían dispuestas a hacer lo . Es decir , existe un potencial importante de mujeres que podría incorporar se a el mercado laboral , ¿ por qué no lo hacen ? Existen múltiples razones pero entre estas mujeres que potencialmente podría participar en el mercado laboral , aproximadamente 51 mil señalan que no buscan trabajo porque no tienen con quien dejar a sus hijos y 71 mil por los quehaceres de el hogar . En cuanto a la cobertura de los subsidios monetarios , sólo dos de cada tres hogares pobres con jefa de hogar recibe algún subsidio . Cuando se observa la importancia de los subsidios monetarios sobre los ingresos de el hogar , en los hogares pobres estos corresponden a el 22 % de el ingreso total de los hogares con jefatura mujer y a un 15 % de aquellos con jefatura hombre . Es decir , las mujeres son más dependientes de las transferencias públicas . Situaciones como las @ @ @ @ @ @ @ @ @ @ tienen necesariamente que incluir una mirada especial de género . Aumentar la participación laboral de las mujeres pobres debe ser un objetivo central , pero eso requiere políticas y programas que apoyen a las mujeres pobres en el cuidado de los niños y que les alivien las tareas domésticas . Hay además un tema muy sensible y extremadamente complejo que Chile debe comenzar a mirar : el efecto de los tipos de hogares sobre las probabilidades que un hogar sea pobre y particularmente sobre la participación laboral de las mujeres pobres . Este tema nos lleva directo a las políticas educacionales , de educación sexual , de salud reproductiva y de derechos reproductivos de las mujeres . Pero también nos debe obligar a mirar el papel que están jugando los hombres en el cuidado de las niñas y los niños y en las tareas domésticas , lo que de nuevo nos remite a las políticas de educación y culturales en un sentido amplio . En síntesis , el estancamiento de los niveles de pobreza en los últimos cinco años , obliga a repensar la pobreza y mirar en detalle la focalización @ @ @ @ @ @ @ @ @ @ es necesario complementar . Así más que aumentar en la periodicidad de la medición de ésta , conviene avanzar hacia una mayor comprensión de la dinámica de los hogares pobres para diseñar y asignar subsidios de acuerdo a dinámicas de pobreza crónica y transitoria . Además , explorar nuevas alternativas de programas de protección social que aporten a construir capacidades para una mayor autonomía y participación económica , puede ayudar a generar procesos de superación de la pobreza más sostenibles . El pasado viernes el Presidente Piñera ha anunciado la suspensión de la aplicación de la Encuesta CASEN 2012 y el envío de un proyecto de ley a el parlamento para introducir cambios en la institucionalidad encargada de la medición de la pobreza en Chile . Aunque aún desconocemos el contenido de dicho proyecto , pareciera ser que el foco estará puesto en dotar a el Instituto Nacional de Estadísticas de las atribuciones , capacidades y presupuesto para asumir la tarea de manera autónoma . La suspensión de la aplicación de la CASEN 2012 deja , entonces , sin concretar un anuncio previo : que durante este gobierno la encuesta se @ @ @ @ @ @ @ @ @ @ o tres años como se hacía anteriormente . Ello , en aras de asegurar que las nuevas mediciones se realicen una vez instalada la nueva institucionalidad . Este anuncio surge en medio de un complejo debate público que ha ido escalando en proporciones tras la entrega de cada nuevos resultados de la CASEN . Si en 2006 era un debate entre técnicos respecto de lo desactualizada que estaba la línea de pobreza - en función de el cambio en las preferencias de las familias chilenas - , así como también de lo apropiada que resultaba la línea de ingreso para dar cuenta de las distintas situaciones de pobreza no monetaria , el 2010 este mismo debate se hacía público tras la aparente alza en los niveles de pobreza a finales de el gobierno anterior anunciados por el actual gobierno . En la misma línea , pero más abiertamente centrado en la utilización política de las cifras , se ha dado el debate reciente . En este complejo escenario no quedaba más remedio que tomar cartas en el asunto . Esperemos que el envío de el proyecto de ley sea el inicio @ @ @ @ @ @ @ @ @ @ de el proceso . Debate necesario por varias razones , pero fundamentalmente , porque las cifras de pobreza son claves para el diseño de las políticas de superación de la pobreza que implementa un determinado gobierno . Nos quieren hacer pasar por técnica una discusión que tiene claras aristas políticas y que , por lo tanto , requiere ser ampliamente debatido . Me refiero a continuación a una de estas aristas . Sabemos que la encuesta CASEN es representativa de los hogares a nivel nacional y regional , pero sólo representa adecuadamente la situación de algunas comunas , por lo que no es un instrumento útil para tomar decisiones ni realizar inferencias sobre la situación de pobreza a nivel local . En un seminario organizado por Rimisp-Centro Latinoamericano de Desarrollo Rural el año 2010 , para discutir el impacto territorial de la pobreza y la desigualdad a partir de los datos de la Casen 2009 , fuimos muchos quienes abogamos por la necesidad de incrementar el tamaño de la muestra de la encuesta , de manera tal de asegurar su representatividad a nivel local , aun a sabiendas de el costo @ @ @ @ @ @ @ @ @ @ oficial al respecto , se presume que la decisión de realizar la CASEN anualmente irá aparejada a una pérdida de representatividad , pues si ya resulta costoso aplicar la encuesta con una periodicidad de dos a tres años con la actual muestra de poco más de 54.500 hogares , mayor será el costo de hacer lo anualmente con una muestra aun más grande . ¿ Tiene sentido aplicar la encuesta anualmente ? , ¿ no será mejor ganar en representatividad más que en periodicidad ? En un mundo de recursos escasos y necesidades múltiples , la respuesta depende mucho de las opciones relativas a el tipo de políticas sociales . Contar con datos anuales representativos de la situación nacional es útil para una estrategia de bonos combinados como la que ha implementado este gobierno a través de el Ingreso Ético Familiar : aumentan las transferencias directas , mejoran las cifras de pobreza anualmente y los resultados están a la mano para mostrar el éxito de la estrategia de gobierno . Distinto sería si se apuesta , en cambio , por políticas tendientes a enfrentar el conjunto de vulnerabilidades que afectan a @ @ @ @ @ @ @ @ @ @ de ingreso es una entre muchas carencias materiales , afectivas y socioculturales . Desde una mirada comprensiva como esta resulta es más útil contar con información más desagregada , que de cuenta de las distintas situaciones de carencias que enfrentan las familias en distintos lugares de el país , para abordar las a través de políticas de largo plazo , diferenciadas según el tipo de necesidades . No es lo mismo ser habitante de Ercilla perteneciente a el pueblo mapuche que ser mujer jefa de hogar en una población periférica de Santiago . Ambas familias pueden calificar como pobres , pero requieren opciones distintas para salir de forma sostenida de la situación de vulnerabilidad en que se encuentran . Una encuesta CASEN representativa de la realidad local nos puede ayudar mucho a comprender mejor estas situaciones diferentes . Y no necesitamos tomar la foto una vez a el año , pues sabemos bien que producir cambios sostenibles en el tiempo es una tarea de largo aliento que , por cierto , va mucho más allá de la entrega de bonos monetarios . Por tercera vez desde el 2008 , este año @ @ @ @ @ @ @ @ @ @ productos agrícolas en el mundo . La razón principal este año , parece explicar se por diversos problemas climáticos en varias zonas de el mundo : un verano especialmente caliente en Rusia , la sequía en Estados Unidos ( que reducirá sus cosechas de maíz , trigo y soya en un 10 % ) y un verano especialmente lluvioso y húmedo en Europa . En términos agregados la cosecha de maíz , trigo , soya caerá en un 2,3 % a nivel mundial y la de arroz no crecerá . Como consecuencia , los precios de el trigo en el mercado mundial han crecido en un 25 % , los de el maíz en un 13 % y los lácteos en un 6 % . La situación de precios altos y de volatilidad parece ser la nueva situación normal ahora y no creo que desaparezca de manera inmediata . Las causas estructurales están en el crecimiento de la población mundial , aumentaremos en unos 2 mil millones de personas hasta el 2050 , el crecimiento de la economía mundial y sobre todo la de el Asia que ha implicado un cambio @ @ @ @ @ @ @ @ @ @ en proteína animal y los problemas de cambio climático , sobre lo cual no hay ya duda alguna . Esto está obligando a varios países a tomar medidas coyunturales y algunas , más de largo plazo . Entre las primeras está la posible limitación de exportaciones rusas de trigo y seguramente otros países sigan ese camino . Entre las segundas están las cuantiosas compras de tierras que se están produciendo , sobre todo en África y en Asia . Estados , sobre todo asiáticos y de el Medio Oriente , pero también empresas , con respaldo estatal , compran millones de hectáreas . Se trata de adquisiciones relacionadas fundamentalmente con China , India , Corea del Sur , Arabia Saudita , Catar , Brasil y África del Sur , es decir , economías emergentes . Su objetivo es el aprovisionamiento seguro de alimentos . De hecho , la información disponible y documentada señala que se compraron entre el 2000 y el 2011 , 71 millones de hectáreas , es decir , seis veces la superficie de tierras de Ecuador en fincas . Ello se produjo sobre todo en países con una @ @ @ @ @ @ @ @ @ @ estaba en necesidad de recursos fiscales . De estas tierras , alrededor de el 73 % se destinaron a la producción agropecuaria y un 27 % a proyectos forestales , turísticos y mineros . Estos procesos están disparando conflictos , campañas internacionales y serias violaciones de los derechos humanos . En este contexto , es imprescindible que pongamos más atención en nuestra producción agropecuaria , para contrarrestar los problemas de volatilidad de los precios internacionales , que de una u otra manera repercuten en los precios internos . El índice de precios de alimentos ha sido más alto que el índice de precios general en lo que va de el 2012 . Pero también puede ser una fuente importantísima de oportunidades en el mercado exterior . Esto , sin embargo , requiere transformar el sistema de investigación agropecuaria , mejorar la producción y distribución de semillas certificadas , asistencia técnica de calidad , crédito oportuno , todo ello en el marco de acuerdos entre los diversos participantes en las principales cadenas agropecuarias . Menciono esto último , pues debemos ser capaces de avanzar en la transformación productiva de el sector , @ @ @ @ @ @ @ @ @ @ que tanto agroindustrias , empresas , como la agricultura familiar participen de ello . \\r\\n'"
      ]
     },
     "execution_count": 11,
     "metadata": {},
     "output_type": "execute_result"
    }
   ],
   "source": [
    "bachelet[\"Text\"][1999]"
   ]
  },
  {
   "cell_type": "markdown",
   "metadata": {},
   "source": [
    "## ***Coding procedure***\n",
    "\n",
    "I asked 10 codders in Mechanical Turk to code four fragments like the ones above. Coders had to reply to two questions: \n",
    "\n",
    "    1) On a scale from -2 to 2, -2 being very negative to 2 being very positive, what is the value assesment in the excerpt about politician XXXX? \n",
    "\n",
    "    2) From a scale of 0 to 5, where 0 is no certainty and 5 is complete certainty, how certain is the excerpt regarding the claims it makes about politician XXXX?  "
   ]
  },
  {
   "cell_type": "code",
   "execution_count": 12,
   "metadata": {},
   "outputs": [],
   "source": [
    "header_list = [\"Time\", \"Correa value\", \"Correa certainty\", \"Uribe value\", \"Uribe certainty\", \\\n",
    "               \"Morales value\", \"Morales certainty\", \"Bachelet value\", \"Bachelet certainty\"]\n",
    "survey = pandas.read_csv(\"survey_results.csv\", names=header_list)\n",
    "survey = survey.reset_index()\n",
    "survey = survey.drop([0])\n",
    "survey_val = survey.drop(columns=[\"index\", \"Time\", \"Correa certainty\", \"Uribe certainty\", \\\n",
    "                                  \"Morales certainty\", \"Bachelet certainty\"])\n",
    "survey_cert = survey[[\"Correa certainty\", \"Uribe certainty\", \n",
    "                    \"Morales certainty\", \"Bachelet certainty\"]]"
   ]
  },
  {
   "cell_type": "code",
   "execution_count": 13,
   "metadata": {},
   "outputs": [
    {
     "data": {
      "text/html": [
       "<div>\n",
       "<style scoped>\n",
       "    .dataframe tbody tr th:only-of-type {\n",
       "        vertical-align: middle;\n",
       "    }\n",
       "\n",
       "    .dataframe tbody tr th {\n",
       "        vertical-align: top;\n",
       "    }\n",
       "\n",
       "    .dataframe thead th {\n",
       "        text-align: right;\n",
       "    }\n",
       "</style>\n",
       "<table border=\"1\" class=\"dataframe\">\n",
       "  <thead>\n",
       "    <tr style=\"text-align: right;\">\n",
       "      <th></th>\n",
       "      <th>Correa value</th>\n",
       "      <th>Uribe value</th>\n",
       "      <th>Morales value</th>\n",
       "      <th>Bachelet value</th>\n",
       "    </tr>\n",
       "  </thead>\n",
       "  <tbody>\n",
       "    <tr>\n",
       "      <th>1</th>\n",
       "      <td>-2</td>\n",
       "      <td>-1</td>\n",
       "      <td>-2</td>\n",
       "      <td>0</td>\n",
       "    </tr>\n",
       "    <tr>\n",
       "      <th>2</th>\n",
       "      <td>-2</td>\n",
       "      <td>-1</td>\n",
       "      <td>0</td>\n",
       "      <td>0</td>\n",
       "    </tr>\n",
       "    <tr>\n",
       "      <th>3</th>\n",
       "      <td>-2</td>\n",
       "      <td>-1</td>\n",
       "      <td>-1</td>\n",
       "      <td>-1</td>\n",
       "    </tr>\n",
       "    <tr>\n",
       "      <th>4</th>\n",
       "      <td>-2</td>\n",
       "      <td>-2</td>\n",
       "      <td>1</td>\n",
       "      <td>1</td>\n",
       "    </tr>\n",
       "    <tr>\n",
       "      <th>5</th>\n",
       "      <td>2</td>\n",
       "      <td>2</td>\n",
       "      <td>1</td>\n",
       "      <td>0</td>\n",
       "    </tr>\n",
       "    <tr>\n",
       "      <th>6</th>\n",
       "      <td>0</td>\n",
       "      <td>1</td>\n",
       "      <td>-2</td>\n",
       "      <td>-1</td>\n",
       "    </tr>\n",
       "    <tr>\n",
       "      <th>7</th>\n",
       "      <td>2</td>\n",
       "      <td>2</td>\n",
       "      <td>2</td>\n",
       "      <td>2</td>\n",
       "    </tr>\n",
       "    <tr>\n",
       "      <th>8</th>\n",
       "      <td>-2</td>\n",
       "      <td>-2</td>\n",
       "      <td>0</td>\n",
       "      <td>0</td>\n",
       "    </tr>\n",
       "    <tr>\n",
       "      <th>9</th>\n",
       "      <td>-2</td>\n",
       "      <td>-2</td>\n",
       "      <td>0</td>\n",
       "      <td>0</td>\n",
       "    </tr>\n",
       "    <tr>\n",
       "      <th>10</th>\n",
       "      <td>2</td>\n",
       "      <td>2</td>\n",
       "      <td>2</td>\n",
       "      <td>0</td>\n",
       "    </tr>\n",
       "    <tr>\n",
       "      <th>11</th>\n",
       "      <td>-2</td>\n",
       "      <td>-2</td>\n",
       "      <td>0</td>\n",
       "      <td>0</td>\n",
       "    </tr>\n",
       "  </tbody>\n",
       "</table>\n",
       "</div>"
      ],
      "text/plain": [
       "   Correa value Uribe value Morales value Bachelet value\n",
       "1            -2          -1            -2              0\n",
       "2            -2          -1             0              0\n",
       "3            -2          -1            -1             -1\n",
       "4            -2          -2             1              1\n",
       "5             2           2             1              0\n",
       "6             0           1            -2             -1\n",
       "7             2           2             2              2\n",
       "8            -2          -2             0              0\n",
       "9            -2          -2             0              0\n",
       "10            2           2             2              0\n",
       "11           -2          -2             0              0"
      ]
     },
     "execution_count": 13,
     "metadata": {},
     "output_type": "execute_result"
    }
   ],
   "source": [
    "survey_val # ranges from -2 to 2"
   ]
  },
  {
   "cell_type": "code",
   "execution_count": 14,
   "metadata": {},
   "outputs": [
    {
     "data": {
      "text/html": [
       "<div>\n",
       "<style scoped>\n",
       "    .dataframe tbody tr th:only-of-type {\n",
       "        vertical-align: middle;\n",
       "    }\n",
       "\n",
       "    .dataframe tbody tr th {\n",
       "        vertical-align: top;\n",
       "    }\n",
       "\n",
       "    .dataframe thead th {\n",
       "        text-align: right;\n",
       "    }\n",
       "</style>\n",
       "<table border=\"1\" class=\"dataframe\">\n",
       "  <thead>\n",
       "    <tr style=\"text-align: right;\">\n",
       "      <th></th>\n",
       "      <th>Correa certainty</th>\n",
       "      <th>Uribe certainty</th>\n",
       "      <th>Morales certainty</th>\n",
       "      <th>Bachelet certainty</th>\n",
       "    </tr>\n",
       "  </thead>\n",
       "  <tbody>\n",
       "    <tr>\n",
       "      <th>1</th>\n",
       "      <td>5</td>\n",
       "      <td>4</td>\n",
       "      <td>4</td>\n",
       "      <td>2</td>\n",
       "    </tr>\n",
       "    <tr>\n",
       "      <th>2</th>\n",
       "      <td>3</td>\n",
       "      <td>2</td>\n",
       "      <td>3</td>\n",
       "      <td>4</td>\n",
       "    </tr>\n",
       "    <tr>\n",
       "      <th>3</th>\n",
       "      <td>5</td>\n",
       "      <td>5</td>\n",
       "      <td>4</td>\n",
       "      <td>0</td>\n",
       "    </tr>\n",
       "    <tr>\n",
       "      <th>4</th>\n",
       "      <td>0</td>\n",
       "      <td>5</td>\n",
       "      <td>3</td>\n",
       "      <td>3</td>\n",
       "    </tr>\n",
       "    <tr>\n",
       "      <th>5</th>\n",
       "      <td>5</td>\n",
       "      <td>5</td>\n",
       "      <td>5</td>\n",
       "      <td>5</td>\n",
       "    </tr>\n",
       "    <tr>\n",
       "      <th>6</th>\n",
       "      <td>3</td>\n",
       "      <td>5</td>\n",
       "      <td>0</td>\n",
       "      <td>2</td>\n",
       "    </tr>\n",
       "    <tr>\n",
       "      <th>7</th>\n",
       "      <td>5</td>\n",
       "      <td>5</td>\n",
       "      <td>5</td>\n",
       "      <td>5</td>\n",
       "    </tr>\n",
       "    <tr>\n",
       "      <th>8</th>\n",
       "      <td>5</td>\n",
       "      <td>4</td>\n",
       "      <td>5</td>\n",
       "      <td>2</td>\n",
       "    </tr>\n",
       "    <tr>\n",
       "      <th>9</th>\n",
       "      <td>5</td>\n",
       "      <td>4</td>\n",
       "      <td>5</td>\n",
       "      <td>2</td>\n",
       "    </tr>\n",
       "    <tr>\n",
       "      <th>10</th>\n",
       "      <td>5</td>\n",
       "      <td>5</td>\n",
       "      <td>5</td>\n",
       "      <td>0</td>\n",
       "    </tr>\n",
       "    <tr>\n",
       "      <th>11</th>\n",
       "      <td>5</td>\n",
       "      <td>5</td>\n",
       "      <td>5</td>\n",
       "      <td>0</td>\n",
       "    </tr>\n",
       "  </tbody>\n",
       "</table>\n",
       "</div>"
      ],
      "text/plain": [
       "   Correa certainty Uribe certainty Morales certainty Bachelet certainty\n",
       "1                 5               4                 4                  2\n",
       "2                 3               2                 3                  4\n",
       "3                 5               5                 4                  0\n",
       "4                 0               5                 3                  3\n",
       "5                 5               5                 5                  5\n",
       "6                 3               5                 0                  2\n",
       "7                 5               5                 5                  5\n",
       "8                 5               4                 5                  2\n",
       "9                 5               4                 5                  2\n",
       "10                5               5                 5                  0\n",
       "11                5               5                 5                  0"
      ]
     },
     "execution_count": 14,
     "metadata": {},
     "output_type": "execute_result"
    }
   ],
   "source": [
    "survey_cert # ranges from 0 to 5"
   ]
  },
  {
   "cell_type": "code",
   "execution_count": 15,
   "metadata": {},
   "outputs": [],
   "source": [
    "survey_val_np = survey_val.to_numpy(dtype=np.float64)\n",
    "survey_cert_np = survey_cert.to_numpy(dtype=np.int32)"
   ]
  },
  {
   "cell_type": "code",
   "execution_count": 16,
   "metadata": {},
   "outputs": [],
   "source": [
    "# transposing rows  \n",
    "survey_val_np = survey_val_np.T\n",
    "survey_cert_np = survey_cert_np.T"
   ]
  },
  {
   "cell_type": "code",
   "execution_count": 17,
   "metadata": {},
   "outputs": [],
   "source": [
    "annot_val = AnnotationsContainer.from_array(survey_val_np, missing_values=[99])\n",
    "annot_cert = AnnotationsContainer.from_array(survey_cert_np, missing_values=[99])"
   ]
  },
  {
   "cell_type": "code",
   "execution_count": 18,
   "metadata": {},
   "outputs": [
    {
     "name": "stdout",
     "output_type": "stream",
     "text": [
      "[-2.0, -1.0, 0.0, 1.0, 2.0]\n",
      "[0, 2, 3, 4, 5]\n",
      "[]\n",
      "[]\n"
     ]
    }
   ],
   "source": [
    "print(annot_val.labels)\n",
    "print(annot_cert.labels)\n",
    "print(annot_val.missing_values)\n",
    "print(annot_cert.missing_values)"
   ]
  },
  {
   "cell_type": "code",
   "execution_count": 19,
   "metadata": {},
   "outputs": [
    {
     "data": {
      "text/plain": [
       "array([[0, 0, 0, 0, 4, 2, 4, 0, 0, 4, 0],\n",
       "       [1, 1, 1, 0, 4, 3, 4, 0, 0, 4, 0],\n",
       "       [0, 2, 1, 3, 3, 0, 4, 2, 2, 4, 2],\n",
       "       [2, 2, 1, 3, 2, 1, 4, 2, 2, 2, 2]])"
      ]
     },
     "execution_count": 19,
     "metadata": {},
     "output_type": "execute_result"
    }
   ],
   "source": [
    "annot_val.annotations # I don't understand why it changed the codes"
   ]
  },
  {
   "cell_type": "code",
   "execution_count": 20,
   "metadata": {},
   "outputs": [
    {
     "data": {
      "text/plain": [
       "array([[4, 2, 4, 0, 4, 2, 4, 4, 4, 4, 4],\n",
       "       [3, 1, 4, 4, 4, 4, 4, 3, 3, 4, 4],\n",
       "       [3, 2, 3, 2, 4, 0, 4, 4, 4, 4, 4],\n",
       "       [1, 3, 0, 2, 4, 1, 4, 1, 1, 0, 0]])"
      ]
     },
     "execution_count": 20,
     "metadata": {},
     "output_type": "execute_result"
    }
   ],
   "source": [
    "annot_cert.annotations # I don't understand why it changed the codes"
   ]
  },
  {
   "cell_type": "code",
   "execution_count": 21,
   "metadata": {},
   "outputs": [
    {
     "data": {
      "text/plain": [
       "array([0.29545455, 0.13636364, 0.27272727, 0.09090909, 0.20454545])"
      ]
     },
     "execution_count": 21,
     "metadata": {},
     "output_type": "execute_result"
    }
   ],
   "source": [
    "pyanno.measures.agreement.labels_frequency(annot_val.annotations,5)"
   ]
  },
  {
   "cell_type": "markdown",
   "metadata": {},
   "source": [
    "**There isn't that much aggreement between codders. Specially not for codding the fragment on Evo Morales (index 2 in the array). The codding for Correa and Uribe (idexes 0 and 1) is higher. The heatmaps below comparing two ussers for each of the two questions show that the agreement between them was low.**"
   ]
  },
  {
   "cell_type": "code",
   "execution_count": 22,
   "metadata": {},
   "outputs": [
    {
     "name": "stdout",
     "output_type": "stream",
     "text": [
      "[[0. 0. 0. 0.]\n",
      " [0. 0. 0. 0.]\n",
      " [0. 0. 0. 0.]\n",
      " [0. 0. 1. 1.]]\n"
     ]
    },
    {
     "data": {
      "image/png": "[encoded data removed]",
      "text/plain": [
       "<Figure size 432x288 with 2 Axes>"
      ]
     },
     "metadata": {
      "needs_background": "light"
     },
     "output_type": "display_data"
    }
   ],
   "source": [
    "c = pyanno.measures.agreement.confusion_matrix(annot_val.annotations[:,3], annot_val.annotations[:,4],4)\n",
    "print(c)\n",
    "ac = seaborn.heatmap(c)\n",
    "plt.show()"
   ]
  },
  {
   "cell_type": "code",
   "execution_count": 23,
   "metadata": {},
   "outputs": [
    {
     "name": "stdout",
     "output_type": "stream",
     "text": [
      "[[0. 0. 0. 0. 0.]\n",
      " [0. 0. 0. 0. 1.]\n",
      " [1. 0. 1. 0. 0.]\n",
      " [0. 0. 1. 0. 0.]\n",
      " [0. 0. 0. 0. 0.]]\n"
     ]
    },
    {
     "data": {
      "image/png": "[encoded data removed]",
      "text/plain": [
       "<Figure size 432x288 with 2 Axes>"
      ]
     },
     "metadata": {
      "needs_background": "light"
     },
     "output_type": "display_data"
    }
   ],
   "source": [
    "c = pyanno.measures.agreement.confusion_matrix(annot_cert.annotations[:,1], annot_cert.annotations[:,3],5)\n",
    "print(c)\n",
    "ac = seaborn.heatmap(c)\n",
    "plt.show()"
   ]
  },
  {
   "cell_type": "markdown",
   "metadata": {},
   "source": [
    "***Using Cohen's kappa shows that codder five is an outlier, while codders seven and eight tend to agree.***"
   ]
  },
  {
   "cell_type": "code",
   "execution_count": 24,
   "metadata": {},
   "outputs": [
    {
     "name": "stderr",
     "output_type": "stream",
     "text": [
      "/Users/nte/Documents/CCA2021/venv/lib/python3.8/site-packages/pyanno/measures/helpers.py:166: RuntimeWarning: invalid value encountered in double_scalars\n",
      "  return (observed_agreement - chance_agreement) / (1. - chance_agreement)\n"
     ]
    },
    {
     "data": {
      "image/png": "[encoded data removed]",
      "text/plain": [
       "<Figure size 432x288 with 2 Axes>"
      ]
     },
     "metadata": {
      "needs_background": "light"
     },
     "output_type": "display_data"
    }
   ],
   "source": [
    "m = pairwise_matrix(cohens_kappa, annot_val.annotations)\n",
    "ax = seaborn.heatmap(m)\n",
    "plt.show()"
   ]
  },
  {
   "cell_type": "code",
   "execution_count": 25,
   "metadata": {},
   "outputs": [
    {
     "data": {
      "text/plain": [
       "0.15119217383923264"
      ]
     },
     "execution_count": 25,
     "metadata": {},
     "output_type": "execute_result"
    }
   ],
   "source": [
    "pairwise_metric_average(cohens_weighted_kappa,annot_val.annotations)"
   ]
  },
  {
   "cell_type": "code",
   "execution_count": 26,
   "metadata": {},
   "outputs": [
    {
     "name": "stderr",
     "output_type": "stream",
     "text": [
      "/Users/nte/Documents/CCA2021/venv/lib/python3.8/site-packages/scipy/stats/stats.py:3913: PearsonRConstantInputWarning: An input array is constant; the correlation coefficent is not defined.\n",
      "  warnings.warn(PearsonRConstantInputWarning())\n",
      "/Users/nte/Documents/CCA2021/venv/lib/python3.8/site-packages/scipy/stats/stats.py:4264: SpearmanRConstantInputWarning: An input array is constant; the correlation coefficent is not defined.\n",
      "  warnings.warn(SpearmanRConstantInputWarning())\n"
     ]
    },
    {
     "data": {
      "image/png": "[encoded data removed]",
      "text/plain": [
       "<Figure size 432x288 with 2 Axes>"
      ]
     },
     "metadata": {
      "needs_background": "light"
     },
     "output_type": "display_data"
    },
    {
     "data": {
      "image/png": "[encoded data removed]",
      "text/plain": [
       "<Figure size 432x288 with 2 Axes>"
      ]
     },
     "metadata": {
      "needs_background": "light"
     },
     "output_type": "display_data"
    }
   ],
   "source": [
    "n = pairwise_matrix(pearsons_rho, annot_val.annotations)\n",
    "m = pairwise_matrix(spearmans_rho, annot_val.annotations)\n",
    "an = seaborn.heatmap(n)\n",
    "plt.show()\n",
    "am = seaborn.heatmap(m)\n",
    "plt.show()"
   ]
  },
  {
   "cell_type": "code",
   "execution_count": 27,
   "metadata": {},
   "outputs": [],
   "source": [
    "def makeQuestionComparison(model, anno_target, num_questions = 20):\n",
    "    votes = []\n",
    "    for r in anno_target.annotations:\n",
    "        v = [0] * len(anno_target.labels)\n",
    "        votes.append(v)\n",
    "        for a in r:\n",
    "            if a > -1:\n",
    "                v[a] += 1\n",
    "    votes_array = np.array(votes)\n",
    "    posterior = model.infer_labels(anno_target.annotations)\n",
    "    fig, (ax1, ax2) = plt.subplots(ncols=2, figsize = (15, 10), sharey=True)\n",
    "\n",
    "    seaborn.heatmap(votes_array[:num_questions], annot = True, ax=ax2)\n",
    "    seaborn.heatmap(np.nan_to_num(posterior,0)[:num_questions], annot=True, ax =ax1)\n",
    "    ax1.set_title(\"Model\")\n",
    "    ax2.set_title(\"Votes\")\n",
    "    return fig, (ax1, ax2)"
   ]
  },
  {
   "cell_type": "markdown",
   "metadata": {},
   "source": [
    "## <span style=\"color:red\">*Your turn: Models*</span>\n",
    "\n",
    "In the cells immediately following, use the results of your content annotation survey to predict **high and low-quality analysts**, then predict MAP estimates for your codes in question. What do these estimates suggest about the distribution of skill among your coders? How different are these estimates from a majority vote?"
   ]
  },
  {
   "cell_type": "code",
   "execution_count": 28,
   "metadata": {},
   "outputs": [
    {
     "data": {
      "text/plain": [
       "array([[0, 0, 0, 0, 4, 2, 4, 0, 0, 4, 0],\n",
       "       [1, 1, 1, 0, 4, 3, 4, 0, 0, 4, 0],\n",
       "       [0, 2, 1, 3, 3, 0, 4, 2, 2, 4, 2],\n",
       "       [2, 2, 1, 3, 2, 1, 4, 2, 2, 2, 2]])"
      ]
     },
     "execution_count": 28,
     "metadata": {},
     "output_type": "execute_result"
    }
   ],
   "source": [
    "annot_val.annotations"
   ]
  },
  {
   "cell_type": "code",
   "execution_count": 29,
   "metadata": {},
   "outputs": [
    {
     "name": "stderr",
     "output_type": "stream",
     "text": [
      "/Users/nte/Documents/CCA2021/venv/lib/python3.8/site-packages/pyanno/util.py:80: RuntimeWarning: divide by zero encountered in log\n",
      "  log_theta = ninf_to_num(log(theta))\n"
     ]
    }
   ],
   "source": [
    "model_b = ModelB.create_initial_state(5, 11)\n",
    "model_b.map(annot_val.annotations)"
   ]
  },
  {
   "cell_type": "code",
   "execution_count": 30,
   "metadata": {},
   "outputs": [],
   "source": [
    "posterior = model_b.infer_labels(annot_val.annotations)\n",
    "\n",
    "votes = []\n",
    "for r in annot_val.annotations:\n",
    "    v = [0] * len(annot_val.labels)\n",
    "    votes.append(v)\n",
    "    for a in r:\n",
    "        if a > -1:\n",
    "            v[a] += 1\n",
    "votes_array = np.array(votes)"
   ]
  },
  {
   "cell_type": "code",
   "execution_count": 31,
   "metadata": {},
   "outputs": [
    {
     "data": {
      "image/png": "[encoded data removed]",
      "text/plain": [
       "<Figure size 1080x720 with 4 Axes>"
      ]
     },
     "metadata": {
      "needs_background": "light"
     },
     "output_type": "display_data"
    }
   ],
   "source": [
    "fig, (ax1, ax2) = plt.subplots(ncols=2, figsize = (15, 10), sharey=True)\n",
    "num_questions = 7\n",
    "\n",
    "seaborn.heatmap(votes_array[:num_questions], annot= True, ax=ax2)\n",
    "seaborn.heatmap(posterior[:num_questions], annot=True, ax =ax1)\n",
    "ax1.set_title(\"Model\")\n",
    "ax2.set_title(\"Votes\")\n",
    "plt.show()"
   ]
  },
  {
   "cell_type": "code",
   "execution_count": 32,
   "metadata": {},
   "outputs": [],
   "source": [
    "model_bt = ModelBt.create_initial_state(5, 11)\n",
    "model_bt.mle(annot_val.annotations)\n",
    "samples = model_bt.sample_posterior_over_accuracy(annot_val.annotations, 200, burn_in_samples=100, thin_samples=3)"
   ]
  },
  {
   "cell_type": "code",
   "execution_count": 33,
   "metadata": {},
   "outputs": [
    {
     "data": {
      "image/png": "[encoded data removed]",
      "text/plain": [
       "<Figure size 432x288 with 1 Axes>"
      ]
     },
     "metadata": {
      "needs_background": "light"
     },
     "output_type": "display_data"
    }
   ],
   "source": [
    "y =  samples.mean(axis=0)\n",
    "y_ci = samples.std(axis=0)\n",
    "plt.figure()\n",
    "plt.title('coder accuracy')\n",
    "plt.errorbar(range(11),y, yerr = y_ci)\n",
    "plt.show()"
   ]
  }
 ],
 "metadata": {
  "anaconda-cloud": {},
  "kernelspec": {
   "display_name": "Python 3",
   "language": "python",
   "name": "python3"
  },
  "language_info": {
   "codemirror_mode": {
    "name": "ipython",
    "version": 3
   },
   "file_extension": ".py",
   "mimetype": "text/x-python",
   "name": "python",
   "nbconvert_exporter": "python",
   "pygments_lexer": "ipython3",
   "version": "3.8.5"
  }
 },
 "nbformat": 4,
 "nbformat_minor": 1
}
