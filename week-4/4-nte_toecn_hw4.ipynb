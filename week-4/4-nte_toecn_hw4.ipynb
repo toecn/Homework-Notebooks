{
 "cells": [
  {
   "cell_type": "markdown",
   "metadata": {},
   "source": [
    "# Nicolás Torres-Echeverry: \n",
    "\n",
    "# Homework 4 - Classification\n",
    "\n",
    "This week, we shift from gathering human textual classifications through crowdsourcing, to using machine learning models and algorithms that train on those human classifications and extend them to documents far too numerous to read. If you recall, *clustering* allows us to stably partition text data (e.g., documents, turns of conversation) according to all patterns of covariation among available text features. *Classification*, by contrast, partitions text data according to only those features and their variation that enable us to mimic and extrapolate human annotations.\n",
    "\n",
    "In this notebook, we will show how to use a variety of classification methods, including **Naïve Bayes**, **Logistic regression**, **K-nearest neighbor**, **decision trees and random forests**, **support vector machines** and even a **simple neural network**, the perceptron. We will also demonstrate **ensemble techniques that can link several such methods into a single, more accurate, classification pipeline**. We will finally learn to use conventions and metrics to evaluate classifier performance on out-of-sample data. \n",
    "\n",
    "For this notebook we will be using the following packages."
   ]
  },
  {
   "cell_type": "code",
   "execution_count": 1,
   "metadata": {},
   "outputs": [],
   "source": [
    "#Special module written for this class\n",
    "#This provides access to data and to helper functions from previous weeks\n",
    "#Make sure you update it before starting this notebook\n",
    "import lucem_illud #pip install -U git+git://github.com/UChicago-Computational-Content-Analysis/lucem_illud.git\n",
    "\n",
    "#All these packages need to be installed from pip\n",
    "#For ML\n",
    "import sklearn\n",
    "import sklearn.naive_bayes\n",
    "import sklearn.tree\n",
    "import sklearn.ensemble\n",
    "import sklearn.neural_network\n",
    "import sklearn.decomposition\n",
    "\n",
    "import numpy as np #arrays\n",
    "import matplotlib.pyplot as plt #Plots\n",
    "import matplotlib.colors # For nice colours\n",
    "import seaborn #Makes plots look nice, also heatmaps\n",
    "import scipy as sp #for interp\n",
    "\n",
    "#These are from the standard library\n",
    "import collections\n",
    "import os\n",
    "import os.path\n",
    "import random\n",
    "import re\n",
    "import glob\n",
    "import pandas\n",
    "import requests\n",
    "import json\n",
    "import math\n",
    "\n",
    "#This 'magic' command makes the plots work better\n",
    "#in the notebook, don't use it outside of a notebook.\n",
    "#Also you can ignore the warning\n",
    "%matplotlib inline"
   ]
  },
  {
   "cell_type": "markdown",
   "metadata": {},
   "source": [
    "## <span style=\"color:red\">*Exercise 1: Contrasting Classification Methods*</span>\n",
    "\n",
    "Go back through all of the cells above and generate 10 distinct artificial datasets and classify them with all of the available methods. Add a cell immediately below and describe which classifier(s) worked best with which artificially constructed data source and why. Then go through all of the empirical datasets (i.e., Newsgroups, Senate Small, Senate Large, Email Spam) and classify them with all available methods. Add a second cell immediately below and describe which classifier(s) worked best with which data set and why.\n",
    "\n",
    "***Stretch*** (but also required) Wander through the SKLearn documentation available [here](http://scikit-learn.org/stable/), particularly perusing the classifiers. In cells following, identify and implement a new classifier that we have not yet used (e.g., AdaBoost, CART) on one artificial dataset and one real dataset (used above). Then, in the next cell describe the classifier, detail how it compares with the approaches above, and why it performed better or worse than others."
   ]
  },
  {
   "cell_type": "markdown",
   "metadata": {},
   "source": [
    "# A. ***Using randomly created data***"
   ]
  },
  {
   "cell_type": "code",
   "execution_count": 2,
   "metadata": {},
   "outputs": [],
   "source": [
    "noise2 = .3\n",
    "\n",
    "dfTrain_1, dfTest_1 = lucem_illud.trainTestSplit(lucem_illud.random())\n",
    "dfTrain_2, dfTest_2 = lucem_illud.trainTestSplit(lucem_illud.andSplit(noise2))\n",
    "dfTrain_3, dfTest_3 = lucem_illud.trainTestSplit(lucem_illud.xorSplit(noise2))\n",
    "dfTrain_4, dfTest_4 = lucem_illud.trainTestSplit(lucem_illud.targetSplit(noise2))\n",
    "dfTrain_5, dfTest_5 = lucem_illud.trainTestSplit(lucem_illud.multiBlobs(noise2))"
   ]
  },
  {
   "cell_type": "code",
   "execution_count": 3,
   "metadata": {},
   "outputs": [],
   "source": [
    "noise2 = .4\n",
    "\n",
    "dfTrain_6, dfTest_6 = lucem_illud.trainTestSplit(lucem_illud.random())\n",
    "dfTrain_7, dfTest_7 = lucem_illud.trainTestSplit(lucem_illud.andSplit(noise2))\n",
    "dfTrain_8, dfTest_8 = lucem_illud.trainTestSplit(lucem_illud.xorSplit(noise2))\n",
    "dfTrain_9, dfTest_9 = lucem_illud.trainTestSplit(lucem_illud.targetSplit(noise2))\n",
    "dfTrain_10, dfTest_10 = lucem_illud.trainTestSplit(lucem_illud.multiBlobs(noise2))"
   ]
  },
  {
   "cell_type": "code",
   "execution_count": 4,
   "metadata": {},
   "outputs": [],
   "source": [
    "# Only data created through multiblobs creates nonbinary categories\n",
    "\n",
    "# train_data = [dfTrain_1, dfTrain_2, dfTrain_3, dfTrain_4, dfTrain_5, dfTrain_6,\n",
    "#              dfTrain_7, dfTrain_8, dfTrain_9, dfTrain_10] \n",
    "             \n",
    "# for data in train_data:\n",
    "    # print(data['category'].describe())"
   ]
  },
  {
   "cell_type": "code",
   "execution_count": 5,
   "metadata": {},
   "outputs": [
    {
     "data": {
      "image/png": "[encoded data removed]",
      "text/plain": [
       "<Figure size 432x288 with 1 Axes>"
      ]
     },
     "metadata": {
      "needs_background": "light"
     },
     "output_type": "display_data"
    }
   ],
   "source": [
    "ax = dfTrain_10['category'].plot.hist(bins=12, alpha=0.5)"
   ]
  },
  {
   "cell_type": "code",
   "execution_count": 6,
   "metadata": {},
   "outputs": [
    {
     "data": {
      "text/html": [
       "<div>\n",
       "<style scoped>\n",
       "    .dataframe tbody tr th:only-of-type {\n",
       "        vertical-align: middle;\n",
       "    }\n",
       "\n",
       "    .dataframe tbody tr th {\n",
       "        vertical-align: top;\n",
       "    }\n",
       "\n",
       "    .dataframe thead th {\n",
       "        text-align: right;\n",
       "    }\n",
       "</style>\n",
       "<table border=\"1\" class=\"dataframe\">\n",
       "  <thead>\n",
       "    <tr style=\"text-align: right;\">\n",
       "      <th></th>\n",
       "      <th>vect</th>\n",
       "      <th>category</th>\n",
       "    </tr>\n",
       "  </thead>\n",
       "  <tbody>\n",
       "    <tr>\n",
       "      <th>117</th>\n",
       "      <td>[-10.05972420610183, 6.2263806414730825]</td>\n",
       "      <td>3</td>\n",
       "    </tr>\n",
       "    <tr>\n",
       "      <th>942</th>\n",
       "      <td>[-11.553837487893201, 4.940015790051009]</td>\n",
       "      <td>3</td>\n",
       "    </tr>\n",
       "    <tr>\n",
       "      <th>1047</th>\n",
       "      <td>[-9.984098830473943, 5.965177142645766]</td>\n",
       "      <td>3</td>\n",
       "    </tr>\n",
       "    <tr>\n",
       "      <th>624</th>\n",
       "      <td>[-10.742189706114981, 3.8586312935298883]</td>\n",
       "      <td>3</td>\n",
       "    </tr>\n",
       "    <tr>\n",
       "      <th>556</th>\n",
       "      <td>[-8.600647521624783, 6.052487645688053]</td>\n",
       "      <td>0</td>\n",
       "    </tr>\n",
       "  </tbody>\n",
       "</table>\n",
       "</div>"
      ],
      "text/plain": [
       "                                           vect  category\n",
       "117    [-10.05972420610183, 6.2263806414730825]         3\n",
       "942    [-11.553837487893201, 4.940015790051009]         3\n",
       "1047    [-9.984098830473943, 5.965177142645766]         3\n",
       "624   [-10.742189706114981, 3.8586312935298883]         3\n",
       "556     [-8.600647521624783, 6.052487645688053]         0"
      ]
     },
     "execution_count": 6,
     "metadata": {},
     "output_type": "execute_result"
    }
   ],
   "source": [
    "dfTrain_10.sample(5)"
   ]
  },
  {
   "cell_type": "code",
   "execution_count": 7,
   "metadata": {},
   "outputs": [
    {
     "name": "stderr",
     "output_type": "stream",
     "text": [
      "*c* argument looks like a single numeric RGB or RGBA sequence, which should be avoided as value-mapping will have precedence in case its length matches with *x* & *y*.  Please use the *color* keyword-argument or provide a 2-D array with a single row if you intend to specify the same RGB or RGBA value for all points.\n",
      "*c* argument looks like a single numeric RGB or RGBA sequence, which should be avoided as value-mapping will have precedence in case its length matches with *x* & *y*.  Please use the *color* keyword-argument or provide a 2-D array with a single row if you intend to specify the same RGB or RGBA value for all points.\n",
      "*c* argument looks like a single numeric RGB or RGBA sequence, which should be avoided as value-mapping will have precedence in case its length matches with *x* & *y*.  Please use the *color* keyword-argument or provide a 2-D array with a single row if you intend to specify the same RGB or RGBA value for all points.\n",
      "*c* argument looks like a single numeric RGB or RGBA sequence, which should be avoided as value-mapping will have precedence in case its length matches with *x* & *y*.  Please use the *color* keyword-argument or provide a 2-D array with a single row if you intend to specify the same RGB or RGBA value for all points.\n",
      "*c* argument looks like a single numeric RGB or RGBA sequence, which should be avoided as value-mapping will have precedence in case its length matches with *x* & *y*.  Please use the *color* keyword-argument or provide a 2-D array with a single row if you intend to specify the same RGB or RGBA value for all points.\n"
     ]
    },
    {
     "data": {
      "image/png": "[encoded data removed]",
      "text/plain": [
       "<Figure size 720x720 with 1 Axes>"
      ]
     },
     "metadata": {
      "needs_background": "light"
     },
     "output_type": "display_data"
    }
   ],
   "source": [
    "lucem_illud.plotter(dfTrain_10)"
   ]
  },
  {
   "cell_type": "code",
   "execution_count": 8,
   "metadata": {},
   "outputs": [],
   "source": [
    "    #Bayes\n",
    "clf_naive_bayes = sklearn.naive_bayes.GaussianNB()\n",
    "\n",
    "    #Analogizes\n",
    "clf_linear = sklearn.svm.SVC(kernel = 'linear', probability = True) #slow, set probability = False to speed up\n",
    "clf_svc = sklearn.svm.SVC(kernel = 'poly', degree = 3, probability = True) #slower\n",
    "clf_kneigh = sklearn.neighbors.KNeighborsClassifier(5, weights='distance')# k, 'distance' or 'uniform'\n",
    "\n",
    "    #Classical Regression - Logit Regression\n",
    "clf_logit = sklearn.linear_model.LogisticRegression()\n",
    "\n",
    "    #Symbolists\n",
    "clf_dtree = sklearn.tree.DecisionTreeClassifier()\n",
    "clf_randomf = sklearn.ensemble.RandomForestClassifier()\n",
    "\n",
    "    #Connectionists\n",
    "clf_neural = sklearn.neural_network.MLPClassifier()\n",
    "\n",
    "    #Ensemble\n",
    "clf_gradient = sklearn.ensemble.GradientBoostingClassifier()"
   ]
  },
  {
   "cell_type": "code",
   "execution_count": 9,
   "metadata": {},
   "outputs": [
    {
     "data": {
      "text/html": [
       "<div>\n",
       "<style scoped>\n",
       "    .dataframe tbody tr th:only-of-type {\n",
       "        vertical-align: middle;\n",
       "    }\n",
       "\n",
       "    .dataframe tbody tr th {\n",
       "        vertical-align: top;\n",
       "    }\n",
       "\n",
       "    .dataframe thead th {\n",
       "        text-align: right;\n",
       "    }\n",
       "</style>\n",
       "<table border=\"1\" class=\"dataframe\">\n",
       "  <thead>\n",
       "    <tr style=\"text-align: right;\">\n",
       "      <th></th>\n",
       "      <th>Error_Rate</th>\n",
       "      <th>AUC</th>\n",
       "      <th>Precision</th>\n",
       "      <th>Average_Precision</th>\n",
       "      <th>Recall</th>\n",
       "    </tr>\n",
       "    <tr>\n",
       "      <th>Category</th>\n",
       "      <th></th>\n",
       "      <th></th>\n",
       "      <th></th>\n",
       "      <th></th>\n",
       "      <th></th>\n",
       "    </tr>\n",
       "  </thead>\n",
       "  <tbody>\n",
       "    <tr>\n",
       "      <th>0</th>\n",
       "      <td>0.154</td>\n",
       "      <td>0.770940</td>\n",
       "      <td>0.571429</td>\n",
       "      <td>0.436671</td>\n",
       "      <td>0.652174</td>\n",
       "    </tr>\n",
       "    <tr>\n",
       "      <th>1</th>\n",
       "      <td>0.056</td>\n",
       "      <td>0.913060</td>\n",
       "      <td>0.845361</td>\n",
       "      <td>0.755680</td>\n",
       "      <td>0.863158</td>\n",
       "    </tr>\n",
       "    <tr>\n",
       "      <th>2</th>\n",
       "      <td>0.110</td>\n",
       "      <td>0.818505</td>\n",
       "      <td>0.760417</td>\n",
       "      <td>0.592671</td>\n",
       "      <td>0.695238</td>\n",
       "    </tr>\n",
       "    <tr>\n",
       "      <th>3</th>\n",
       "      <td>0.110</td>\n",
       "      <td>0.813874</td>\n",
       "      <td>0.787234</td>\n",
       "      <td>0.604452</td>\n",
       "      <td>0.678899</td>\n",
       "    </tr>\n",
       "    <tr>\n",
       "      <th>4</th>\n",
       "      <td>0.110</td>\n",
       "      <td>0.843938</td>\n",
       "      <td>0.703704</td>\n",
       "      <td>0.586217</td>\n",
       "      <td>0.767677</td>\n",
       "    </tr>\n",
       "  </tbody>\n",
       "</table>\n",
       "</div>"
      ],
      "text/plain": [
       "          Error_Rate       AUC  Precision  Average_Precision    Recall\n",
       "Category                                                              \n",
       "0              0.154  0.770940   0.571429           0.436671  0.652174\n",
       "1              0.056  0.913060   0.845361           0.755680  0.863158\n",
       "2              0.110  0.818505   0.760417           0.592671  0.695238\n",
       "3              0.110  0.813874   0.787234           0.604452  0.678899\n",
       "4              0.110  0.843938   0.703704           0.586217  0.767677"
      ]
     },
     "execution_count": 9,
     "metadata": {},
     "output_type": "execute_result"
    }
   ],
   "source": [
    "    # Naive Bayes\n",
    "clf_naive_bayes.fit(np.stack(dfTrain_10['vect'], axis=0), dfTrain_10['category'])\n",
    "lucem_illud.evaluateClassifier(clf_naive_bayes, dfTest_10)"
   ]
  },
  {
   "cell_type": "code",
   "execution_count": 10,
   "metadata": {},
   "outputs": [
    {
     "data": {
      "text/html": [
       "<div>\n",
       "<style scoped>\n",
       "    .dataframe tbody tr th:only-of-type {\n",
       "        vertical-align: middle;\n",
       "    }\n",
       "\n",
       "    .dataframe tbody tr th {\n",
       "        vertical-align: top;\n",
       "    }\n",
       "\n",
       "    .dataframe thead th {\n",
       "        text-align: right;\n",
       "    }\n",
       "</style>\n",
       "<table border=\"1\" class=\"dataframe\">\n",
       "  <thead>\n",
       "    <tr style=\"text-align: right;\">\n",
       "      <th></th>\n",
       "      <th>Error_Rate</th>\n",
       "      <th>AUC</th>\n",
       "      <th>Precision</th>\n",
       "      <th>Average_Precision</th>\n",
       "      <th>Recall</th>\n",
       "    </tr>\n",
       "    <tr>\n",
       "      <th>Category</th>\n",
       "      <th></th>\n",
       "      <th></th>\n",
       "      <th></th>\n",
       "      <th></th>\n",
       "      <th></th>\n",
       "    </tr>\n",
       "  </thead>\n",
       "  <tbody>\n",
       "    <tr>\n",
       "      <th>0</th>\n",
       "      <td>0.144</td>\n",
       "      <td>0.772858</td>\n",
       "      <td>0.602041</td>\n",
       "      <td>0.452091</td>\n",
       "      <td>0.641304</td>\n",
       "    </tr>\n",
       "    <tr>\n",
       "      <th>1</th>\n",
       "      <td>0.056</td>\n",
       "      <td>0.917089</td>\n",
       "      <td>0.838384</td>\n",
       "      <td>0.756483</td>\n",
       "      <td>0.873684</td>\n",
       "    </tr>\n",
       "    <tr>\n",
       "      <th>2</th>\n",
       "      <td>0.108</td>\n",
       "      <td>0.819771</td>\n",
       "      <td>0.768421</td>\n",
       "      <td>0.598236</td>\n",
       "      <td>0.695238</td>\n",
       "    </tr>\n",
       "    <tr>\n",
       "      <th>3</th>\n",
       "      <td>0.104</td>\n",
       "      <td>0.830944</td>\n",
       "      <td>0.787879</td>\n",
       "      <td>0.625803</td>\n",
       "      <td>0.715596</td>\n",
       "    </tr>\n",
       "    <tr>\n",
       "      <th>4</th>\n",
       "      <td>0.108</td>\n",
       "      <td>0.848989</td>\n",
       "      <td>0.706422</td>\n",
       "      <td>0.593439</td>\n",
       "      <td>0.777778</td>\n",
       "    </tr>\n",
       "  </tbody>\n",
       "</table>\n",
       "</div>"
      ],
      "text/plain": [
       "          Error_Rate       AUC  Precision  Average_Precision    Recall\n",
       "Category                                                              \n",
       "0              0.144  0.772858   0.602041           0.452091  0.641304\n",
       "1              0.056  0.917089   0.838384           0.756483  0.873684\n",
       "2              0.108  0.819771   0.768421           0.598236  0.695238\n",
       "3              0.104  0.830944   0.787879           0.625803  0.715596\n",
       "4              0.108  0.848989   0.706422           0.593439  0.777778"
      ]
     },
     "execution_count": 10,
     "metadata": {},
     "output_type": "execute_result"
    }
   ],
   "source": [
    "    # Analogizes\n",
    "    # Linear\n",
    "clf_linear.fit(np.stack(dfTrain_10['vect'], axis=0), dfTrain_10['category'])\n",
    "lucem_illud.evaluateClassifier(clf_linear, dfTest_10)"
   ]
  },
  {
   "cell_type": "code",
   "execution_count": 11,
   "metadata": {},
   "outputs": [
    {
     "data": {
      "text/html": [
       "<div>\n",
       "<style scoped>\n",
       "    .dataframe tbody tr th:only-of-type {\n",
       "        vertical-align: middle;\n",
       "    }\n",
       "\n",
       "    .dataframe tbody tr th {\n",
       "        vertical-align: top;\n",
       "    }\n",
       "\n",
       "    .dataframe thead th {\n",
       "        text-align: right;\n",
       "    }\n",
       "</style>\n",
       "<table border=\"1\" class=\"dataframe\">\n",
       "  <thead>\n",
       "    <tr style=\"text-align: right;\">\n",
       "      <th></th>\n",
       "      <th>Error_Rate</th>\n",
       "      <th>AUC</th>\n",
       "      <th>Precision</th>\n",
       "      <th>Average_Precision</th>\n",
       "      <th>Recall</th>\n",
       "    </tr>\n",
       "    <tr>\n",
       "      <th>Category</th>\n",
       "      <th></th>\n",
       "      <th></th>\n",
       "      <th></th>\n",
       "      <th></th>\n",
       "      <th></th>\n",
       "    </tr>\n",
       "  </thead>\n",
       "  <tbody>\n",
       "    <tr>\n",
       "      <th>0</th>\n",
       "      <td>0.140</td>\n",
       "      <td>0.775309</td>\n",
       "      <td>0.614583</td>\n",
       "      <td>0.460135</td>\n",
       "      <td>0.641304</td>\n",
       "    </tr>\n",
       "    <tr>\n",
       "      <th>1</th>\n",
       "      <td>0.058</td>\n",
       "      <td>0.911826</td>\n",
       "      <td>0.836735</td>\n",
       "      <td>0.748234</td>\n",
       "      <td>0.863158</td>\n",
       "    </tr>\n",
       "    <tr>\n",
       "      <th>2</th>\n",
       "      <td>0.112</td>\n",
       "      <td>0.838216</td>\n",
       "      <td>0.724771</td>\n",
       "      <td>0.597304</td>\n",
       "      <td>0.752381</td>\n",
       "    </tr>\n",
       "    <tr>\n",
       "      <th>3</th>\n",
       "      <td>0.098</td>\n",
       "      <td>0.844705</td>\n",
       "      <td>0.794118</td>\n",
       "      <td>0.646124</td>\n",
       "      <td>0.743119</td>\n",
       "    </tr>\n",
       "    <tr>\n",
       "      <th>4</th>\n",
       "      <td>0.112</td>\n",
       "      <td>0.816066</td>\n",
       "      <td>0.726316</td>\n",
       "      <td>0.566220</td>\n",
       "      <td>0.696970</td>\n",
       "    </tr>\n",
       "  </tbody>\n",
       "</table>\n",
       "</div>"
      ],
      "text/plain": [
       "          Error_Rate       AUC  Precision  Average_Precision    Recall\n",
       "Category                                                              \n",
       "0              0.140  0.775309   0.614583           0.460135  0.641304\n",
       "1              0.058  0.911826   0.836735           0.748234  0.863158\n",
       "2              0.112  0.838216   0.724771           0.597304  0.752381\n",
       "3              0.098  0.844705   0.794118           0.646124  0.743119\n",
       "4              0.112  0.816066   0.726316           0.566220  0.696970"
      ]
     },
     "execution_count": 11,
     "metadata": {},
     "output_type": "execute_result"
    }
   ],
   "source": [
    "    # SVC\n",
    "clf_svc.fit(np.stack(dfTrain_10['vect'], axis=0), dfTrain_10['category'])\n",
    "lucem_illud.evaluateClassifier(clf_svc, dfTest_10)"
   ]
  },
  {
   "cell_type": "code",
   "execution_count": 12,
   "metadata": {},
   "outputs": [
    {
     "data": {
      "text/html": [
       "<div>\n",
       "<style scoped>\n",
       "    .dataframe tbody tr th:only-of-type {\n",
       "        vertical-align: middle;\n",
       "    }\n",
       "\n",
       "    .dataframe tbody tr th {\n",
       "        vertical-align: top;\n",
       "    }\n",
       "\n",
       "    .dataframe thead th {\n",
       "        text-align: right;\n",
       "    }\n",
       "</style>\n",
       "<table border=\"1\" class=\"dataframe\">\n",
       "  <thead>\n",
       "    <tr style=\"text-align: right;\">\n",
       "      <th></th>\n",
       "      <th>Error_Rate</th>\n",
       "      <th>AUC</th>\n",
       "      <th>Precision</th>\n",
       "      <th>Average_Precision</th>\n",
       "      <th>Recall</th>\n",
       "    </tr>\n",
       "    <tr>\n",
       "      <th>Category</th>\n",
       "      <th></th>\n",
       "      <th></th>\n",
       "      <th></th>\n",
       "      <th></th>\n",
       "      <th></th>\n",
       "    </tr>\n",
       "  </thead>\n",
       "  <tbody>\n",
       "    <tr>\n",
       "      <th>0</th>\n",
       "      <td>0.166</td>\n",
       "      <td>0.713075</td>\n",
       "      <td>0.551724</td>\n",
       "      <td>0.375856</td>\n",
       "      <td>0.521739</td>\n",
       "    </tr>\n",
       "    <tr>\n",
       "      <th>1</th>\n",
       "      <td>0.080</td>\n",
       "      <td>0.898246</td>\n",
       "      <td>0.752294</td>\n",
       "      <td>0.675348</td>\n",
       "      <td>0.863158</td>\n",
       "    </tr>\n",
       "    <tr>\n",
       "      <th>2</th>\n",
       "      <td>0.134</td>\n",
       "      <td>0.785835</td>\n",
       "      <td>0.693878</td>\n",
       "      <td>0.523368</td>\n",
       "      <td>0.647619</td>\n",
       "    </tr>\n",
       "    <tr>\n",
       "      <th>3</th>\n",
       "      <td>0.114</td>\n",
       "      <td>0.817933</td>\n",
       "      <td>0.760000</td>\n",
       "      <td>0.595908</td>\n",
       "      <td>0.697248</td>\n",
       "    </tr>\n",
       "    <tr>\n",
       "      <th>4</th>\n",
       "      <td>0.134</td>\n",
       "      <td>0.802350</td>\n",
       "      <td>0.650943</td>\n",
       "      <td>0.513688</td>\n",
       "      <td>0.696970</td>\n",
       "    </tr>\n",
       "  </tbody>\n",
       "</table>\n",
       "</div>"
      ],
      "text/plain": [
       "          Error_Rate       AUC  Precision  Average_Precision    Recall\n",
       "Category                                                              \n",
       "0              0.166  0.713075   0.551724           0.375856  0.521739\n",
       "1              0.080  0.898246   0.752294           0.675348  0.863158\n",
       "2              0.134  0.785835   0.693878           0.523368  0.647619\n",
       "3              0.114  0.817933   0.760000           0.595908  0.697248\n",
       "4              0.134  0.802350   0.650943           0.513688  0.696970"
      ]
     },
     "execution_count": 12,
     "metadata": {},
     "output_type": "execute_result"
    }
   ],
   "source": [
    "    # KNeighbors\n",
    "clf_kneigh.fit(np.stack(dfTrain_10['vect'], axis=0), dfTrain_10['category'])\n",
    "lucem_illud.evaluateClassifier(clf_kneigh, dfTest_10)"
   ]
  },
  {
   "cell_type": "code",
   "execution_count": 13,
   "metadata": {},
   "outputs": [
    {
     "data": {
      "text/html": [
       "<div>\n",
       "<style scoped>\n",
       "    .dataframe tbody tr th:only-of-type {\n",
       "        vertical-align: middle;\n",
       "    }\n",
       "\n",
       "    .dataframe tbody tr th {\n",
       "        vertical-align: top;\n",
       "    }\n",
       "\n",
       "    .dataframe thead th {\n",
       "        text-align: right;\n",
       "    }\n",
       "</style>\n",
       "<table border=\"1\" class=\"dataframe\">\n",
       "  <thead>\n",
       "    <tr style=\"text-align: right;\">\n",
       "      <th></th>\n",
       "      <th>Error_Rate</th>\n",
       "      <th>AUC</th>\n",
       "      <th>Precision</th>\n",
       "      <th>Average_Precision</th>\n",
       "      <th>Recall</th>\n",
       "    </tr>\n",
       "    <tr>\n",
       "      <th>Category</th>\n",
       "      <th></th>\n",
       "      <th></th>\n",
       "      <th></th>\n",
       "      <th></th>\n",
       "      <th></th>\n",
       "    </tr>\n",
       "  </thead>\n",
       "  <tbody>\n",
       "    <tr>\n",
       "      <th>0</th>\n",
       "      <td>0.198</td>\n",
       "      <td>0.672421</td>\n",
       "      <td>0.462366</td>\n",
       "      <td>0.314106</td>\n",
       "      <td>0.467391</td>\n",
       "    </tr>\n",
       "    <tr>\n",
       "      <th>1</th>\n",
       "      <td>0.092</td>\n",
       "      <td>0.862638</td>\n",
       "      <td>0.742574</td>\n",
       "      <td>0.626243</td>\n",
       "      <td>0.789474</td>\n",
       "    </tr>\n",
       "    <tr>\n",
       "      <th>2</th>\n",
       "      <td>0.142</td>\n",
       "      <td>0.784268</td>\n",
       "      <td>0.663462</td>\n",
       "      <td>0.507989</td>\n",
       "      <td>0.657143</td>\n",
       "    </tr>\n",
       "    <tr>\n",
       "      <th>3</th>\n",
       "      <td>0.142</td>\n",
       "      <td>0.780180</td>\n",
       "      <td>0.686275</td>\n",
       "      <td>0.518727</td>\n",
       "      <td>0.642202</td>\n",
       "    </tr>\n",
       "    <tr>\n",
       "      <th>4</th>\n",
       "      <td>0.142</td>\n",
       "      <td>0.778345</td>\n",
       "      <td>0.640000</td>\n",
       "      <td>0.483737</td>\n",
       "      <td>0.646465</td>\n",
       "    </tr>\n",
       "  </tbody>\n",
       "</table>\n",
       "</div>"
      ],
      "text/plain": [
       "          Error_Rate       AUC  Precision  Average_Precision    Recall\n",
       "Category                                                              \n",
       "0              0.198  0.672421   0.462366           0.314106  0.467391\n",
       "1              0.092  0.862638   0.742574           0.626243  0.789474\n",
       "2              0.142  0.784268   0.663462           0.507989  0.657143\n",
       "3              0.142  0.780180   0.686275           0.518727  0.642202\n",
       "4              0.142  0.778345   0.640000           0.483737  0.646465"
      ]
     },
     "execution_count": 13,
     "metadata": {},
     "output_type": "execute_result"
    }
   ],
   "source": [
    "    # Symbolists\n",
    "    # Decision Tree\n",
    "clf_dtree.fit(np.stack(dfTrain_10['vect'], axis=0), dfTrain_10['category'])\n",
    "lucem_illud.evaluateClassifier(clf_dtree, dfTest_10)"
   ]
  },
  {
   "cell_type": "code",
   "execution_count": 14,
   "metadata": {},
   "outputs": [
    {
     "data": {
      "text/html": [
       "<div>\n",
       "<style scoped>\n",
       "    .dataframe tbody tr th:only-of-type {\n",
       "        vertical-align: middle;\n",
       "    }\n",
       "\n",
       "    .dataframe tbody tr th {\n",
       "        vertical-align: top;\n",
       "    }\n",
       "\n",
       "    .dataframe thead th {\n",
       "        text-align: right;\n",
       "    }\n",
       "</style>\n",
       "<table border=\"1\" class=\"dataframe\">\n",
       "  <thead>\n",
       "    <tr style=\"text-align: right;\">\n",
       "      <th></th>\n",
       "      <th>Error_Rate</th>\n",
       "      <th>AUC</th>\n",
       "      <th>Precision</th>\n",
       "      <th>Average_Precision</th>\n",
       "      <th>Recall</th>\n",
       "    </tr>\n",
       "    <tr>\n",
       "      <th>Category</th>\n",
       "      <th></th>\n",
       "      <th></th>\n",
       "      <th></th>\n",
       "      <th></th>\n",
       "      <th></th>\n",
       "    </tr>\n",
       "  </thead>\n",
       "  <tbody>\n",
       "    <tr>\n",
       "      <th>0</th>\n",
       "      <td>0.154</td>\n",
       "      <td>0.737266</td>\n",
       "      <td>0.584270</td>\n",
       "      <td>0.410239</td>\n",
       "      <td>0.565217</td>\n",
       "    </tr>\n",
       "    <tr>\n",
       "      <th>1</th>\n",
       "      <td>0.074</td>\n",
       "      <td>0.910006</td>\n",
       "      <td>0.763636</td>\n",
       "      <td>0.697215</td>\n",
       "      <td>0.884211</td>\n",
       "    </tr>\n",
       "    <tr>\n",
       "      <th>2</th>\n",
       "      <td>0.112</td>\n",
       "      <td>0.817239</td>\n",
       "      <td>0.752577</td>\n",
       "      <td>0.587220</td>\n",
       "      <td>0.695238</td>\n",
       "    </tr>\n",
       "    <tr>\n",
       "      <th>3</th>\n",
       "      <td>0.116</td>\n",
       "      <td>0.810038</td>\n",
       "      <td>0.762887</td>\n",
       "      <td>0.587923</td>\n",
       "      <td>0.678899</td>\n",
       "    </tr>\n",
       "    <tr>\n",
       "      <th>4</th>\n",
       "      <td>0.112</td>\n",
       "      <td>0.838888</td>\n",
       "      <td>0.700935</td>\n",
       "      <td>0.579011</td>\n",
       "      <td>0.757576</td>\n",
       "    </tr>\n",
       "  </tbody>\n",
       "</table>\n",
       "</div>"
      ],
      "text/plain": [
       "          Error_Rate       AUC  Precision  Average_Precision    Recall\n",
       "Category                                                              \n",
       "0              0.154  0.737266   0.584270           0.410239  0.565217\n",
       "1              0.074  0.910006   0.763636           0.697215  0.884211\n",
       "2              0.112  0.817239   0.752577           0.587220  0.695238\n",
       "3              0.116  0.810038   0.762887           0.587923  0.678899\n",
       "4              0.112  0.838888   0.700935           0.579011  0.757576"
      ]
     },
     "execution_count": 14,
     "metadata": {},
     "output_type": "execute_result"
    }
   ],
   "source": [
    "    # Random Forest\n",
    "clf_randomf.fit(np.stack(dfTrain_10['vect'], axis=0), dfTrain_10['category'])\n",
    "lucem_illud.evaluateClassifier(clf_randomf, dfTest_10)"
   ]
  },
  {
   "cell_type": "code",
   "execution_count": 15,
   "metadata": {},
   "outputs": [
    {
     "data": {
      "text/html": [
       "<div>\n",
       "<style scoped>\n",
       "    .dataframe tbody tr th:only-of-type {\n",
       "        vertical-align: middle;\n",
       "    }\n",
       "\n",
       "    .dataframe tbody tr th {\n",
       "        vertical-align: top;\n",
       "    }\n",
       "\n",
       "    .dataframe thead th {\n",
       "        text-align: right;\n",
       "    }\n",
       "</style>\n",
       "<table border=\"1\" class=\"dataframe\">\n",
       "  <thead>\n",
       "    <tr style=\"text-align: right;\">\n",
       "      <th></th>\n",
       "      <th>Error_Rate</th>\n",
       "      <th>AUC</th>\n",
       "      <th>Precision</th>\n",
       "      <th>Average_Precision</th>\n",
       "      <th>Recall</th>\n",
       "    </tr>\n",
       "    <tr>\n",
       "      <th>Category</th>\n",
       "      <th></th>\n",
       "      <th></th>\n",
       "      <th></th>\n",
       "      <th></th>\n",
       "      <th></th>\n",
       "    </tr>\n",
       "  </thead>\n",
       "  <tbody>\n",
       "    <tr>\n",
       "      <th>0</th>\n",
       "      <td>0.142</td>\n",
       "      <td>0.786711</td>\n",
       "      <td>0.601942</td>\n",
       "      <td>0.465656</td>\n",
       "      <td>0.673913</td>\n",
       "    </tr>\n",
       "    <tr>\n",
       "      <th>1</th>\n",
       "      <td>0.052</td>\n",
       "      <td>0.919558</td>\n",
       "      <td>0.855670</td>\n",
       "      <td>0.771585</td>\n",
       "      <td>0.873684</td>\n",
       "    </tr>\n",
       "    <tr>\n",
       "      <th>2</th>\n",
       "      <td>0.098</td>\n",
       "      <td>0.822604</td>\n",
       "      <td>0.818182</td>\n",
       "      <td>0.627039</td>\n",
       "      <td>0.685714</td>\n",
       "    </tr>\n",
       "    <tr>\n",
       "      <th>3</th>\n",
       "      <td>0.102</td>\n",
       "      <td>0.828914</td>\n",
       "      <td>0.802083</td>\n",
       "      <td>0.630609</td>\n",
       "      <td>0.706422</td>\n",
       "    </tr>\n",
       "    <tr>\n",
       "      <th>4</th>\n",
       "      <td>0.098</td>\n",
       "      <td>0.878045</td>\n",
       "      <td>0.715517</td>\n",
       "      <td>0.631878</td>\n",
       "      <td>0.838384</td>\n",
       "    </tr>\n",
       "  </tbody>\n",
       "</table>\n",
       "</div>"
      ],
      "text/plain": [
       "          Error_Rate       AUC  Precision  Average_Precision    Recall\n",
       "Category                                                              \n",
       "0              0.142  0.786711   0.601942           0.465656  0.673913\n",
       "1              0.052  0.919558   0.855670           0.771585  0.873684\n",
       "2              0.098  0.822604   0.818182           0.627039  0.685714\n",
       "3              0.102  0.828914   0.802083           0.630609  0.706422\n",
       "4              0.098  0.878045   0.715517           0.631878  0.838384"
      ]
     },
     "execution_count": 15,
     "metadata": {},
     "output_type": "execute_result"
    }
   ],
   "source": [
    "    # Connectionists - Neural Network\n",
    "clf_neural.fit(np.stack(dfTrain_10['vect'], axis=0), dfTrain_10['category'])\n",
    "lucem_illud.evaluateClassifier(clf_neural, dfTest_10)"
   ]
  },
  {
   "cell_type": "code",
   "execution_count": 16,
   "metadata": {},
   "outputs": [
    {
     "data": {
      "text/html": [
       "<div>\n",
       "<style scoped>\n",
       "    .dataframe tbody tr th:only-of-type {\n",
       "        vertical-align: middle;\n",
       "    }\n",
       "\n",
       "    .dataframe tbody tr th {\n",
       "        vertical-align: top;\n",
       "    }\n",
       "\n",
       "    .dataframe thead th {\n",
       "        text-align: right;\n",
       "    }\n",
       "</style>\n",
       "<table border=\"1\" class=\"dataframe\">\n",
       "  <thead>\n",
       "    <tr style=\"text-align: right;\">\n",
       "      <th></th>\n",
       "      <th>Error_Rate</th>\n",
       "      <th>AUC</th>\n",
       "      <th>Precision</th>\n",
       "      <th>Average_Precision</th>\n",
       "      <th>Recall</th>\n",
       "    </tr>\n",
       "    <tr>\n",
       "      <th>Category</th>\n",
       "      <th></th>\n",
       "      <th></th>\n",
       "      <th></th>\n",
       "      <th></th>\n",
       "      <th></th>\n",
       "    </tr>\n",
       "  </thead>\n",
       "  <tbody>\n",
       "    <tr>\n",
       "      <th>0</th>\n",
       "      <td>0.160</td>\n",
       "      <td>0.733589</td>\n",
       "      <td>0.565217</td>\n",
       "      <td>0.399471</td>\n",
       "      <td>0.565217</td>\n",
       "    </tr>\n",
       "    <tr>\n",
       "      <th>1</th>\n",
       "      <td>0.062</td>\n",
       "      <td>0.917414</td>\n",
       "      <td>0.807692</td>\n",
       "      <td>0.736170</td>\n",
       "      <td>0.884211</td>\n",
       "    </tr>\n",
       "    <tr>\n",
       "      <th>2</th>\n",
       "      <td>0.100</td>\n",
       "      <td>0.831826</td>\n",
       "      <td>0.789474</td>\n",
       "      <td>0.623910</td>\n",
       "      <td>0.714286</td>\n",
       "    </tr>\n",
       "    <tr>\n",
       "      <th>3</th>\n",
       "      <td>0.114</td>\n",
       "      <td>0.817933</td>\n",
       "      <td>0.760000</td>\n",
       "      <td>0.595908</td>\n",
       "      <td>0.697248</td>\n",
       "    </tr>\n",
       "    <tr>\n",
       "      <th>4</th>\n",
       "      <td>0.100</td>\n",
       "      <td>0.861583</td>\n",
       "      <td>0.724771</td>\n",
       "      <td>0.618352</td>\n",
       "      <td>0.797980</td>\n",
       "    </tr>\n",
       "  </tbody>\n",
       "</table>\n",
       "</div>"
      ],
      "text/plain": [
       "          Error_Rate       AUC  Precision  Average_Precision    Recall\n",
       "Category                                                              \n",
       "0              0.160  0.733589   0.565217           0.399471  0.565217\n",
       "1              0.062  0.917414   0.807692           0.736170  0.884211\n",
       "2              0.100  0.831826   0.789474           0.623910  0.714286\n",
       "3              0.114  0.817933   0.760000           0.595908  0.697248\n",
       "4              0.100  0.861583   0.724771           0.618352  0.797980"
      ]
     },
     "execution_count": 16,
     "metadata": {},
     "output_type": "execute_result"
    }
   ],
   "source": [
    "    # Ensemble - Gradient\n",
    "clf_gradient.fit(np.stack(dfTrain_10['vect'], axis=0), dfTrain_10['category'])\n",
    "lucem_illud.evaluateClassifier(clf_gradient, dfTest_10)"
   ]
  },
  {
   "cell_type": "markdown",
   "metadata": {},
   "source": [
    "# B. ***Using the Senate (five senators) data***"
   ]
  },
  {
   "cell_type": "code",
   "execution_count": 17,
   "metadata": {},
   "outputs": [
    {
     "name": "stdout",
     "output_type": "stream",
     "text": [
      "Loading senator: Klobuchar\n",
      "Loading senator: Kyl\n",
      "Loading senator: Kerry\n",
      "Loading senator: Kohl\n",
      "Loading senator: Kennedy\n",
      "Converting to vectors\n"
     ]
    },
    {
     "data": {
      "text/html": [
       "<div>\n",
       "<style scoped>\n",
       "    .dataframe tbody tr th:only-of-type {\n",
       "        vertical-align: middle;\n",
       "    }\n",
       "\n",
       "    .dataframe tbody tr th {\n",
       "        vertical-align: top;\n",
       "    }\n",
       "\n",
       "    .dataframe thead th {\n",
       "        text-align: right;\n",
       "    }\n",
       "</style>\n",
       "<table border=\"1\" class=\"dataframe\">\n",
       "  <thead>\n",
       "    <tr style=\"text-align: right;\">\n",
       "      <th></th>\n",
       "      <th>category</th>\n",
       "      <th>filePath</th>\n",
       "      <th>text</th>\n",
       "      <th>tokenized_text</th>\n",
       "      <th>normalized_text</th>\n",
       "      <th>vect</th>\n",
       "    </tr>\n",
       "  </thead>\n",
       "  <tbody>\n",
       "    <tr>\n",
       "      <th>2832</th>\n",
       "      <td>Kennedy</td>\n",
       "      <td>../data/grimmerPressReleases/Kennedy/08Sep2005...</td>\n",
       "      <td>FOR IMMEDIATE RELEASE   FOR IMMEDIATE...</td>\n",
       "      <td>[FOR, IMMEDIATE, RELEASE, FOR, IMMEDIATE, RELE...</td>\n",
       "      <td>[immediate, release, immediate, release, conta...</td>\n",
       "      <td>[0.0, 0.0, 0.0, 0.0, 0.0, 0.0, 0.0, 0.0, 0.0, ...</td>\n",
       "    </tr>\n",
       "    <tr>\n",
       "      <th>3770</th>\n",
       "      <td>Kennedy</td>\n",
       "      <td>../data/grimmerPressReleases/Kennedy/16Mar2006...</td>\n",
       "      <td>FOR IMMEDIATE RELEASE  It s ominous t...</td>\n",
       "      <td>[FOR, IMMEDIATE, RELEASE, It, s, ominous, that...</td>\n",
       "      <td>[immediate, release, s, ominous, administratio...</td>\n",
       "      <td>[0.0, 0.0, 0.0, 0.0, 0.0, 0.0, 0.0, 0.0, 0.0, ...</td>\n",
       "    </tr>\n",
       "    <tr>\n",
       "      <th>2876</th>\n",
       "      <td>Kennedy</td>\n",
       "      <td>../data/grimmerPressReleases/Kennedy/12Sep2006...</td>\n",
       "      <td>FOR IMMEDIATE RELEASE  Washington  D ...</td>\n",
       "      <td>[FOR, IMMEDIATE, RELEASE, Washington, D, C, Th...</td>\n",
       "      <td>[immediate, release, washington, have, c, depa...</td>\n",
       "      <td>[0.0, 0.0, 0.0, 0.0, 0.0, 0.0, 0.0, 0.0, 0.0, ...</td>\n",
       "    </tr>\n",
       "    <tr>\n",
       "      <th>699</th>\n",
       "      <td>Kyl</td>\n",
       "      <td>../data/grimmerPressReleases/Kyl/18Jan2006Kyl2...</td>\n",
       "      <td>SEN. KYL: ENACT TRAVEL BAN AND LOBBYING REFORM...</td>\n",
       "      <td>[SEN, KYL, ENACT, TRAVEL, BAN, AND, LOBBYING, ...</td>\n",
       "      <td>[sen, kyl, enact, travel, ban, lobby, reform, ...</td>\n",
       "      <td>[0.0, 0.0, 0.0, 0.0, 0.0, 0.0, 0.0, 0.0, 0.0, ...</td>\n",
       "    </tr>\n",
       "    <tr>\n",
       "      <th>292</th>\n",
       "      <td>Klobuchar</td>\n",
       "      <td>../data/grimmerPressReleases/Klobuchar/10Jun20...</td>\n",
       "      <td>...</td>\n",
       "      <td>[Klobuchar, Pushes, for, Energy, Price, Relief...</td>\n",
       "      <td>[klobuchar, push, energy, price, relief, crack...</td>\n",
       "      <td>[0.0, 0.0, 0.0, 0.0, 0.0, 0.0, 0.0, 0.0, 0.0, ...</td>\n",
       "    </tr>\n",
       "  </tbody>\n",
       "</table>\n",
       "</div>"
      ],
      "text/plain": [
       "       category                                           filePath  \\\n",
       "2832    Kennedy  ../data/grimmerPressReleases/Kennedy/08Sep2005...   \n",
       "3770    Kennedy  ../data/grimmerPressReleases/Kennedy/16Mar2006...   \n",
       "2876    Kennedy  ../data/grimmerPressReleases/Kennedy/12Sep2006...   \n",
       "699         Kyl  ../data/grimmerPressReleases/Kyl/18Jan2006Kyl2...   \n",
       "292   Klobuchar  ../data/grimmerPressReleases/Klobuchar/10Jun20...   \n",
       "\n",
       "                                                   text  \\\n",
       "2832           FOR IMMEDIATE RELEASE   FOR IMMEDIATE...   \n",
       "3770           FOR IMMEDIATE RELEASE  It s ominous t...   \n",
       "2876           FOR IMMEDIATE RELEASE  Washington  D ...   \n",
       "699   SEN. KYL: ENACT TRAVEL BAN AND LOBBYING REFORM...   \n",
       "292                                                 ...   \n",
       "\n",
       "                                         tokenized_text  \\\n",
       "2832  [FOR, IMMEDIATE, RELEASE, FOR, IMMEDIATE, RELE...   \n",
       "3770  [FOR, IMMEDIATE, RELEASE, It, s, ominous, that...   \n",
       "2876  [FOR, IMMEDIATE, RELEASE, Washington, D, C, Th...   \n",
       "699   [SEN, KYL, ENACT, TRAVEL, BAN, AND, LOBBYING, ...   \n",
       "292   [Klobuchar, Pushes, for, Energy, Price, Relief...   \n",
       "\n",
       "                                        normalized_text  \\\n",
       "2832  [immediate, release, immediate, release, conta...   \n",
       "3770  [immediate, release, s, ominous, administratio...   \n",
       "2876  [immediate, release, washington, have, c, depa...   \n",
       "699   [sen, kyl, enact, travel, ban, lobby, reform, ...   \n",
       "292   [klobuchar, push, energy, price, relief, crack...   \n",
       "\n",
       "                                                   vect  \n",
       "2832  [0.0, 0.0, 0.0, 0.0, 0.0, 0.0, 0.0, 0.0, 0.0, ...  \n",
       "3770  [0.0, 0.0, 0.0, 0.0, 0.0, 0.0, 0.0, 0.0, 0.0, ...  \n",
       "2876  [0.0, 0.0, 0.0, 0.0, 0.0, 0.0, 0.0, 0.0, 0.0, ...  \n",
       "699   [0.0, 0.0, 0.0, 0.0, 0.0, 0.0, 0.0, 0.0, 0.0, ...  \n",
       "292   [0.0, 0.0, 0.0, 0.0, 0.0, 0.0, 0.0, 0.0, 0.0, ...  "
      ]
     },
     "execution_count": 17,
     "metadata": {},
     "output_type": "execute_result"
    }
   ],
   "source": [
    "dfTrain_senate_large, dfTest_senate_large = lucem_illud.trainTestSplit(lucem_illud.loadSenateLarge())\n",
    "dfTrain_senate_large.sample(5)"
   ]
  },
  {
   "cell_type": "code",
   "execution_count": 18,
   "metadata": {},
   "outputs": [
    {
     "data": {
      "text/html": [
       "<div>\n",
       "<style scoped>\n",
       "    .dataframe tbody tr th:only-of-type {\n",
       "        vertical-align: middle;\n",
       "    }\n",
       "\n",
       "    .dataframe tbody tr th {\n",
       "        vertical-align: top;\n",
       "    }\n",
       "\n",
       "    .dataframe thead th {\n",
       "        text-align: right;\n",
       "    }\n",
       "</style>\n",
       "<table border=\"1\" class=\"dataframe\">\n",
       "  <thead>\n",
       "    <tr style=\"text-align: right;\">\n",
       "      <th></th>\n",
       "      <th>Error_Rate</th>\n",
       "      <th>AUC</th>\n",
       "      <th>Precision</th>\n",
       "      <th>Average_Precision</th>\n",
       "      <th>Recall</th>\n",
       "    </tr>\n",
       "    <tr>\n",
       "      <th>Category</th>\n",
       "      <th></th>\n",
       "      <th></th>\n",
       "      <th></th>\n",
       "      <th></th>\n",
       "      <th></th>\n",
       "    </tr>\n",
       "  </thead>\n",
       "  <tbody>\n",
       "    <tr>\n",
       "      <th>Klobuchar</th>\n",
       "      <td>0.047436</td>\n",
       "      <td>0.771329</td>\n",
       "      <td>0.818182</td>\n",
       "      <td>0.490326</td>\n",
       "      <td>0.553846</td>\n",
       "    </tr>\n",
       "    <tr>\n",
       "      <th>Kennedy</th>\n",
       "      <td>0.247436</td>\n",
       "      <td>0.771468</td>\n",
       "      <td>0.653543</td>\n",
       "      <td>0.643504</td>\n",
       "      <td>0.951289</td>\n",
       "    </tr>\n",
       "    <tr>\n",
       "      <th>Kohl</th>\n",
       "      <td>0.071795</td>\n",
       "      <td>0.671901</td>\n",
       "      <td>0.966667</td>\n",
       "      <td>0.404243</td>\n",
       "      <td>0.345238</td>\n",
       "    </tr>\n",
       "    <tr>\n",
       "      <th>Kyl</th>\n",
       "      <td>0.066667</td>\n",
       "      <td>0.734694</td>\n",
       "      <td>1.000000</td>\n",
       "      <td>0.536054</td>\n",
       "      <td>0.469388</td>\n",
       "    </tr>\n",
       "    <tr>\n",
       "      <th>Kerry</th>\n",
       "      <td>0.151282</td>\n",
       "      <td>0.760122</td>\n",
       "      <td>0.717105</td>\n",
       "      <td>0.520961</td>\n",
       "      <td>0.592391</td>\n",
       "    </tr>\n",
       "  </tbody>\n",
       "</table>\n",
       "</div>"
      ],
      "text/plain": [
       "           Error_Rate       AUC  Precision  Average_Precision    Recall\n",
       "Category                                                               \n",
       "Klobuchar    0.047436  0.771329   0.818182           0.490326  0.553846\n",
       "Kennedy      0.247436  0.771468   0.653543           0.643504  0.951289\n",
       "Kohl         0.071795  0.671901   0.966667           0.404243  0.345238\n",
       "Kyl          0.066667  0.734694   1.000000           0.536054  0.469388\n",
       "Kerry        0.151282  0.760122   0.717105           0.520961  0.592391"
      ]
     },
     "execution_count": 18,
     "metadata": {},
     "output_type": "execute_result"
    }
   ],
   "source": [
    "    # Naive Bayes\n",
    "clf_naive_bayes.fit(np.stack(dfTrain_senate_large['vect'], axis=0), dfTrain_senate_large['category'])\n",
    "lucem_illud.evaluateClassifier(clf_naive_bayes, dfTest_senate_large)"
   ]
  },
  {
   "cell_type": "code",
   "execution_count": 19,
   "metadata": {},
   "outputs": [
    {
     "data": {
      "image/png": "[encoded data removed]",
      "text/plain": [
       "<Figure size 432x288 with 1 Axes>"
      ]
     },
     "metadata": {
      "needs_background": "light"
     },
     "output_type": "display_data"
    }
   ],
   "source": [
    "lucem_illud.plotConfusionMatrix(clf_naive_bayes, dfTest_senate_large)"
   ]
  },
  {
   "cell_type": "code",
   "execution_count": 20,
   "metadata": {},
   "outputs": [
    {
     "data": {
      "text/html": [
       "<div>\n",
       "<style scoped>\n",
       "    .dataframe tbody tr th:only-of-type {\n",
       "        vertical-align: middle;\n",
       "    }\n",
       "\n",
       "    .dataframe tbody tr th {\n",
       "        vertical-align: top;\n",
       "    }\n",
       "\n",
       "    .dataframe thead th {\n",
       "        text-align: right;\n",
       "    }\n",
       "</style>\n",
       "<table border=\"1\" class=\"dataframe\">\n",
       "  <thead>\n",
       "    <tr style=\"text-align: right;\">\n",
       "      <th></th>\n",
       "      <th>Error_Rate</th>\n",
       "      <th>AUC</th>\n",
       "      <th>Precision</th>\n",
       "      <th>Average_Precision</th>\n",
       "      <th>Recall</th>\n",
       "    </tr>\n",
       "    <tr>\n",
       "      <th>Category</th>\n",
       "      <th></th>\n",
       "      <th></th>\n",
       "      <th></th>\n",
       "      <th></th>\n",
       "      <th></th>\n",
       "    </tr>\n",
       "  </thead>\n",
       "  <tbody>\n",
       "    <tr>\n",
       "      <th>Klobuchar</th>\n",
       "      <td>0.002564</td>\n",
       "      <td>0.984615</td>\n",
       "      <td>1.000000</td>\n",
       "      <td>0.971795</td>\n",
       "      <td>0.969231</td>\n",
       "    </tr>\n",
       "    <tr>\n",
       "      <th>Kennedy</th>\n",
       "      <td>0.030769</td>\n",
       "      <td>0.971885</td>\n",
       "      <td>0.938005</td>\n",
       "      <td>0.936600</td>\n",
       "      <td>0.997135</td>\n",
       "    </tr>\n",
       "    <tr>\n",
       "      <th>Kohl</th>\n",
       "      <td>0.007692</td>\n",
       "      <td>0.964286</td>\n",
       "      <td>1.000000</td>\n",
       "      <td>0.936264</td>\n",
       "      <td>0.928571</td>\n",
       "    </tr>\n",
       "    <tr>\n",
       "      <th>Kyl</th>\n",
       "      <td>0.001282</td>\n",
       "      <td>0.994898</td>\n",
       "      <td>1.000000</td>\n",
       "      <td>0.991078</td>\n",
       "      <td>0.989796</td>\n",
       "    </tr>\n",
       "    <tr>\n",
       "      <th>Kerry</th>\n",
       "      <td>0.019231</td>\n",
       "      <td>0.961118</td>\n",
       "      <td>0.994152</td>\n",
       "      <td>0.936459</td>\n",
       "      <td>0.923913</td>\n",
       "    </tr>\n",
       "  </tbody>\n",
       "</table>\n",
       "</div>"
      ],
      "text/plain": [
       "           Error_Rate       AUC  Precision  Average_Precision    Recall\n",
       "Category                                                               \n",
       "Klobuchar    0.002564  0.984615   1.000000           0.971795  0.969231\n",
       "Kennedy      0.030769  0.971885   0.938005           0.936600  0.997135\n",
       "Kohl         0.007692  0.964286   1.000000           0.936264  0.928571\n",
       "Kyl          0.001282  0.994898   1.000000           0.991078  0.989796\n",
       "Kerry        0.019231  0.961118   0.994152           0.936459  0.923913"
      ]
     },
     "execution_count": 20,
     "metadata": {},
     "output_type": "execute_result"
    }
   ],
   "source": [
    "    # Analogizes\n",
    "    # Linear\n",
    "clf_linear.fit(np.stack(dfTrain_senate_large['vect'], axis=0), dfTrain_senate_large['category'])\n",
    "lucem_illud.evaluateClassifier(clf_linear, dfTest_senate_large)"
   ]
  },
  {
   "cell_type": "code",
   "execution_count": 21,
   "metadata": {},
   "outputs": [
    {
     "data": {
      "image/png": "[encoded data removed]",
      "text/plain": [
       "<Figure size 432x288 with 1 Axes>"
      ]
     },
     "metadata": {
      "needs_background": "light"
     },
     "output_type": "display_data"
    }
   ],
   "source": [
    "lucem_illud.plotConfusionMatrix(clf_linear, dfTest_senate_large)"
   ]
  },
  {
   "cell_type": "code",
   "execution_count": 22,
   "metadata": {},
   "outputs": [
    {
     "data": {
      "text/html": [
       "<div>\n",
       "<style scoped>\n",
       "    .dataframe tbody tr th:only-of-type {\n",
       "        vertical-align: middle;\n",
       "    }\n",
       "\n",
       "    .dataframe tbody tr th {\n",
       "        vertical-align: top;\n",
       "    }\n",
       "\n",
       "    .dataframe thead th {\n",
       "        text-align: right;\n",
       "    }\n",
       "</style>\n",
       "<table border=\"1\" class=\"dataframe\">\n",
       "  <thead>\n",
       "    <tr style=\"text-align: right;\">\n",
       "      <th></th>\n",
       "      <th>Error_Rate</th>\n",
       "      <th>AUC</th>\n",
       "      <th>Precision</th>\n",
       "      <th>Average_Precision</th>\n",
       "      <th>Recall</th>\n",
       "    </tr>\n",
       "    <tr>\n",
       "      <th>Category</th>\n",
       "      <th></th>\n",
       "      <th></th>\n",
       "      <th></th>\n",
       "      <th></th>\n",
       "      <th></th>\n",
       "    </tr>\n",
       "  </thead>\n",
       "  <tbody>\n",
       "    <tr>\n",
       "      <th>Klobuchar</th>\n",
       "      <td>0.033333</td>\n",
       "      <td>0.800000</td>\n",
       "      <td>1.000000</td>\n",
       "      <td>0.633333</td>\n",
       "      <td>0.600000</td>\n",
       "    </tr>\n",
       "    <tr>\n",
       "      <th>Kennedy</th>\n",
       "      <td>0.246154</td>\n",
       "      <td>0.775627</td>\n",
       "      <td>0.648393</td>\n",
       "      <td>0.644938</td>\n",
       "      <td>0.982808</td>\n",
       "    </tr>\n",
       "    <tr>\n",
       "      <th>Kohl</th>\n",
       "      <td>0.060256</td>\n",
       "      <td>0.720238</td>\n",
       "      <td>1.000000</td>\n",
       "      <td>0.500733</td>\n",
       "      <td>0.440476</td>\n",
       "    </tr>\n",
       "    <tr>\n",
       "      <th>Kyl</th>\n",
       "      <td>0.066667</td>\n",
       "      <td>0.734694</td>\n",
       "      <td>1.000000</td>\n",
       "      <td>0.536054</td>\n",
       "      <td>0.469388</td>\n",
       "    </tr>\n",
       "    <tr>\n",
       "      <th>Kerry</th>\n",
       "      <td>0.121795</td>\n",
       "      <td>0.779417</td>\n",
       "      <td>0.844961</td>\n",
       "      <td>0.596702</td>\n",
       "      <td>0.592391</td>\n",
       "    </tr>\n",
       "  </tbody>\n",
       "</table>\n",
       "</div>"
      ],
      "text/plain": [
       "           Error_Rate       AUC  Precision  Average_Precision    Recall\n",
       "Category                                                               \n",
       "Klobuchar    0.033333  0.800000   1.000000           0.633333  0.600000\n",
       "Kennedy      0.246154  0.775627   0.648393           0.644938  0.982808\n",
       "Kohl         0.060256  0.720238   1.000000           0.500733  0.440476\n",
       "Kyl          0.066667  0.734694   1.000000           0.536054  0.469388\n",
       "Kerry        0.121795  0.779417   0.844961           0.596702  0.592391"
      ]
     },
     "execution_count": 22,
     "metadata": {},
     "output_type": "execute_result"
    }
   ],
   "source": [
    "    # SVC - Support Vector Classifier\n",
    "clf_svc.fit(np.stack(dfTrain_senate_large['vect'], axis=0), dfTrain_senate_large['category'])\n",
    "lucem_illud.evaluateClassifier(clf_svc, dfTest_senate_large)"
   ]
  },
  {
   "cell_type": "code",
   "execution_count": 23,
   "metadata": {},
   "outputs": [
    {
     "data": {
      "image/png": "[encoded data removed]",
      "text/plain": [
       "<Figure size 432x288 with 1 Axes>"
      ]
     },
     "metadata": {
      "needs_background": "light"
     },
     "output_type": "display_data"
    }
   ],
   "source": [
    "lucem_illud.plotConfusionMatrix(clf_svc, dfTest_senate_large)"
   ]
  },
  {
   "cell_type": "code",
   "execution_count": 24,
   "metadata": {},
   "outputs": [
    {
     "data": {
      "text/html": [
       "<div>\n",
       "<style scoped>\n",
       "    .dataframe tbody tr th:only-of-type {\n",
       "        vertical-align: middle;\n",
       "    }\n",
       "\n",
       "    .dataframe tbody tr th {\n",
       "        vertical-align: top;\n",
       "    }\n",
       "\n",
       "    .dataframe thead th {\n",
       "        text-align: right;\n",
       "    }\n",
       "</style>\n",
       "<table border=\"1\" class=\"dataframe\">\n",
       "  <thead>\n",
       "    <tr style=\"text-align: right;\">\n",
       "      <th></th>\n",
       "      <th>Error_Rate</th>\n",
       "      <th>AUC</th>\n",
       "      <th>Precision</th>\n",
       "      <th>Average_Precision</th>\n",
       "      <th>Recall</th>\n",
       "    </tr>\n",
       "    <tr>\n",
       "      <th>Category</th>\n",
       "      <th></th>\n",
       "      <th></th>\n",
       "      <th></th>\n",
       "      <th></th>\n",
       "      <th></th>\n",
       "    </tr>\n",
       "  </thead>\n",
       "  <tbody>\n",
       "    <tr>\n",
       "      <th>Klobuchar</th>\n",
       "      <td>0.025641</td>\n",
       "      <td>0.895105</td>\n",
       "      <td>0.881356</td>\n",
       "      <td>0.721751</td>\n",
       "      <td>0.800000</td>\n",
       "    </tr>\n",
       "    <tr>\n",
       "      <th>Kennedy</th>\n",
       "      <td>0.167949</td>\n",
       "      <td>0.843122</td>\n",
       "      <td>0.745495</td>\n",
       "      <td>0.730123</td>\n",
       "      <td>0.948424</td>\n",
       "    </tr>\n",
       "    <tr>\n",
       "      <th>Kohl</th>\n",
       "      <td>0.039744</td>\n",
       "      <td>0.831178</td>\n",
       "      <td>0.949153</td>\n",
       "      <td>0.668666</td>\n",
       "      <td>0.666667</td>\n",
       "    </tr>\n",
       "    <tr>\n",
       "      <th>Kyl</th>\n",
       "      <td>0.051282</td>\n",
       "      <td>0.830870</td>\n",
       "      <td>0.891892</td>\n",
       "      <td>0.641688</td>\n",
       "      <td>0.673469</td>\n",
       "    </tr>\n",
       "    <tr>\n",
       "      <th>Kerry</th>\n",
       "      <td>0.130769</td>\n",
       "      <td>0.781059</td>\n",
       "      <td>0.784722</td>\n",
       "      <td>0.572947</td>\n",
       "      <td>0.614130</td>\n",
       "    </tr>\n",
       "  </tbody>\n",
       "</table>\n",
       "</div>"
      ],
      "text/plain": [
       "           Error_Rate       AUC  Precision  Average_Precision    Recall\n",
       "Category                                                               \n",
       "Klobuchar    0.025641  0.895105   0.881356           0.721751  0.800000\n",
       "Kennedy      0.167949  0.843122   0.745495           0.730123  0.948424\n",
       "Kohl         0.039744  0.831178   0.949153           0.668666  0.666667\n",
       "Kyl          0.051282  0.830870   0.891892           0.641688  0.673469\n",
       "Kerry        0.130769  0.781059   0.784722           0.572947  0.614130"
      ]
     },
     "execution_count": 24,
     "metadata": {},
     "output_type": "execute_result"
    }
   ],
   "source": [
    "    # KNeighbors\n",
    "clf_kneigh.fit(np.stack(dfTrain_senate_large['vect'], axis=0), dfTrain_senate_large['category'])\n",
    "lucem_illud.evaluateClassifier(clf_kneigh, dfTest_senate_large)"
   ]
  },
  {
   "cell_type": "code",
   "execution_count": 25,
   "metadata": {},
   "outputs": [
    {
     "data": {
      "image/png": "[encoded data removed]",
      "text/plain": [
       "<Figure size 432x288 with 1 Axes>"
      ]
     },
     "metadata": {
      "needs_background": "light"
     },
     "output_type": "display_data"
    }
   ],
   "source": [
    "lucem_illud.plotConfusionMatrix(clf_kneigh, dfTest_senate_large)"
   ]
  },
  {
   "cell_type": "code",
   "execution_count": 26,
   "metadata": {},
   "outputs": [
    {
     "data": {
      "text/html": [
       "<div>\n",
       "<style scoped>\n",
       "    .dataframe tbody tr th:only-of-type {\n",
       "        vertical-align: middle;\n",
       "    }\n",
       "\n",
       "    .dataframe tbody tr th {\n",
       "        vertical-align: top;\n",
       "    }\n",
       "\n",
       "    .dataframe thead th {\n",
       "        text-align: right;\n",
       "    }\n",
       "</style>\n",
       "<table border=\"1\" class=\"dataframe\">\n",
       "  <thead>\n",
       "    <tr style=\"text-align: right;\">\n",
       "      <th></th>\n",
       "      <th>Error_Rate</th>\n",
       "      <th>AUC</th>\n",
       "      <th>Precision</th>\n",
       "      <th>Average_Precision</th>\n",
       "      <th>Recall</th>\n",
       "    </tr>\n",
       "    <tr>\n",
       "      <th>Category</th>\n",
       "      <th></th>\n",
       "      <th></th>\n",
       "      <th></th>\n",
       "      <th></th>\n",
       "      <th></th>\n",
       "    </tr>\n",
       "  </thead>\n",
       "  <tbody>\n",
       "    <tr>\n",
       "      <th>Klobuchar</th>\n",
       "      <td>0.001282</td>\n",
       "      <td>0.999301</td>\n",
       "      <td>0.984848</td>\n",
       "      <td>0.984848</td>\n",
       "      <td>1.000000</td>\n",
       "    </tr>\n",
       "    <tr>\n",
       "      <th>Kennedy</th>\n",
       "      <td>0.005128</td>\n",
       "      <td>0.995087</td>\n",
       "      <td>0.991453</td>\n",
       "      <td>0.989894</td>\n",
       "      <td>0.997135</td>\n",
       "    </tr>\n",
       "    <tr>\n",
       "      <th>Kohl</th>\n",
       "      <td>0.003846</td>\n",
       "      <td>0.982143</td>\n",
       "      <td>1.000000</td>\n",
       "      <td>0.968132</td>\n",
       "      <td>0.964286</td>\n",
       "    </tr>\n",
       "    <tr>\n",
       "      <th>Kyl</th>\n",
       "      <td>0.001282</td>\n",
       "      <td>0.999267</td>\n",
       "      <td>0.989899</td>\n",
       "      <td>0.989899</td>\n",
       "      <td>1.000000</td>\n",
       "    </tr>\n",
       "    <tr>\n",
       "      <th>Kerry</th>\n",
       "      <td>0.001282</td>\n",
       "      <td>0.997283</td>\n",
       "      <td>1.000000</td>\n",
       "      <td>0.995847</td>\n",
       "      <td>0.994565</td>\n",
       "    </tr>\n",
       "  </tbody>\n",
       "</table>\n",
       "</div>"
      ],
      "text/plain": [
       "           Error_Rate       AUC  Precision  Average_Precision    Recall\n",
       "Category                                                               \n",
       "Klobuchar    0.001282  0.999301   0.984848           0.984848  1.000000\n",
       "Kennedy      0.005128  0.995087   0.991453           0.989894  0.997135\n",
       "Kohl         0.003846  0.982143   1.000000           0.968132  0.964286\n",
       "Kyl          0.001282  0.999267   0.989899           0.989899  1.000000\n",
       "Kerry        0.001282  0.997283   1.000000           0.995847  0.994565"
      ]
     },
     "execution_count": 26,
     "metadata": {},
     "output_type": "execute_result"
    }
   ],
   "source": [
    "    # Symbolists\n",
    "    # Decision Tree\n",
    "clf_dtree.fit(np.stack(dfTrain_senate_large['vect'], axis=0), dfTrain_senate_large['category'])\n",
    "lucem_illud.evaluateClassifier(clf_dtree, dfTest_senate_large)"
   ]
  },
  {
   "cell_type": "code",
   "execution_count": 27,
   "metadata": {},
   "outputs": [
    {
     "data": {
      "image/png": "[encoded data removed]",
      "text/plain": [
       "<Figure size 432x288 with 1 Axes>"
      ]
     },
     "metadata": {
      "needs_background": "light"
     },
     "output_type": "display_data"
    }
   ],
   "source": [
    "lucem_illud.plotConfusionMatrix(clf_dtree, dfTest_senate_large)"
   ]
  },
  {
   "cell_type": "code",
   "execution_count": 28,
   "metadata": {},
   "outputs": [
    {
     "data": {
      "text/html": [
       "<div>\n",
       "<style scoped>\n",
       "    .dataframe tbody tr th:only-of-type {\n",
       "        vertical-align: middle;\n",
       "    }\n",
       "\n",
       "    .dataframe tbody tr th {\n",
       "        vertical-align: top;\n",
       "    }\n",
       "\n",
       "    .dataframe thead th {\n",
       "        text-align: right;\n",
       "    }\n",
       "</style>\n",
       "<table border=\"1\" class=\"dataframe\">\n",
       "  <thead>\n",
       "    <tr style=\"text-align: right;\">\n",
       "      <th></th>\n",
       "      <th>Error_Rate</th>\n",
       "      <th>AUC</th>\n",
       "      <th>Precision</th>\n",
       "      <th>Average_Precision</th>\n",
       "      <th>Recall</th>\n",
       "    </tr>\n",
       "    <tr>\n",
       "      <th>Category</th>\n",
       "      <th></th>\n",
       "      <th></th>\n",
       "      <th></th>\n",
       "      <th></th>\n",
       "      <th></th>\n",
       "    </tr>\n",
       "  </thead>\n",
       "  <tbody>\n",
       "    <tr>\n",
       "      <th>Klobuchar</th>\n",
       "      <td>0.005128</td>\n",
       "      <td>0.969231</td>\n",
       "      <td>1.000000</td>\n",
       "      <td>0.943590</td>\n",
       "      <td>0.938462</td>\n",
       "    </tr>\n",
       "    <tr>\n",
       "      <th>Kennedy</th>\n",
       "      <td>0.012821</td>\n",
       "      <td>0.988399</td>\n",
       "      <td>0.972145</td>\n",
       "      <td>0.972145</td>\n",
       "      <td>1.000000</td>\n",
       "    </tr>\n",
       "    <tr>\n",
       "      <th>Kohl</th>\n",
       "      <td>0.002564</td>\n",
       "      <td>0.988095</td>\n",
       "      <td>1.000000</td>\n",
       "      <td>0.978755</td>\n",
       "      <td>0.976190</td>\n",
       "    </tr>\n",
       "    <tr>\n",
       "      <th>Kyl</th>\n",
       "      <td>0.000000</td>\n",
       "      <td>1.000000</td>\n",
       "      <td>1.000000</td>\n",
       "      <td>1.000000</td>\n",
       "      <td>1.000000</td>\n",
       "    </tr>\n",
       "    <tr>\n",
       "      <th>Kerry</th>\n",
       "      <td>0.005128</td>\n",
       "      <td>0.989130</td>\n",
       "      <td>1.000000</td>\n",
       "      <td>0.983389</td>\n",
       "      <td>0.978261</td>\n",
       "    </tr>\n",
       "  </tbody>\n",
       "</table>\n",
       "</div>"
      ],
      "text/plain": [
       "           Error_Rate       AUC  Precision  Average_Precision    Recall\n",
       "Category                                                               \n",
       "Klobuchar    0.005128  0.969231   1.000000           0.943590  0.938462\n",
       "Kennedy      0.012821  0.988399   0.972145           0.972145  1.000000\n",
       "Kohl         0.002564  0.988095   1.000000           0.978755  0.976190\n",
       "Kyl          0.000000  1.000000   1.000000           1.000000  1.000000\n",
       "Kerry        0.005128  0.989130   1.000000           0.983389  0.978261"
      ]
     },
     "execution_count": 28,
     "metadata": {},
     "output_type": "execute_result"
    }
   ],
   "source": [
    "    # Random Forest\n",
    "clf_randomf.fit(np.stack(dfTrain_senate_large['vect'], axis=0), dfTrain_senate_large['category'])\n",
    "lucem_illud.evaluateClassifier(clf_randomf, dfTest_senate_large)"
   ]
  },
  {
   "cell_type": "code",
   "execution_count": 29,
   "metadata": {},
   "outputs": [
    {
     "data": {
      "image/png": "[encoded data removed]",
      "text/plain": [
       "<Figure size 432x288 with 1 Axes>"
      ]
     },
     "metadata": {
      "needs_background": "light"
     },
     "output_type": "display_data"
    }
   ],
   "source": [
    "lucem_illud.plotConfusionMatrix(clf_randomf, dfTest_senate_large)"
   ]
  },
  {
   "cell_type": "code",
   "execution_count": 30,
   "metadata": {},
   "outputs": [
    {
     "data": {
      "text/html": [
       "<div>\n",
       "<style scoped>\n",
       "    .dataframe tbody tr th:only-of-type {\n",
       "        vertical-align: middle;\n",
       "    }\n",
       "\n",
       "    .dataframe tbody tr th {\n",
       "        vertical-align: top;\n",
       "    }\n",
       "\n",
       "    .dataframe thead th {\n",
       "        text-align: right;\n",
       "    }\n",
       "</style>\n",
       "<table border=\"1\" class=\"dataframe\">\n",
       "  <thead>\n",
       "    <tr style=\"text-align: right;\">\n",
       "      <th></th>\n",
       "      <th>Error_Rate</th>\n",
       "      <th>AUC</th>\n",
       "      <th>Precision</th>\n",
       "      <th>Average_Precision</th>\n",
       "      <th>Recall</th>\n",
       "    </tr>\n",
       "    <tr>\n",
       "      <th>Category</th>\n",
       "      <th></th>\n",
       "      <th></th>\n",
       "      <th></th>\n",
       "      <th></th>\n",
       "      <th></th>\n",
       "    </tr>\n",
       "  </thead>\n",
       "  <tbody>\n",
       "    <tr>\n",
       "      <th>Klobuchar</th>\n",
       "      <td>0.003846</td>\n",
       "      <td>0.983916</td>\n",
       "      <td>0.984375</td>\n",
       "      <td>0.956651</td>\n",
       "      <td>0.969231</td>\n",
       "    </tr>\n",
       "    <tr>\n",
       "      <th>Kennedy</th>\n",
       "      <td>0.042308</td>\n",
       "      <td>0.960899</td>\n",
       "      <td>0.920213</td>\n",
       "      <td>0.916149</td>\n",
       "      <td>0.991404</td>\n",
       "    </tr>\n",
       "    <tr>\n",
       "      <th>Kohl</th>\n",
       "      <td>0.008974</td>\n",
       "      <td>0.963567</td>\n",
       "      <td>0.987342</td>\n",
       "      <td>0.924510</td>\n",
       "      <td>0.928571</td>\n",
       "    </tr>\n",
       "    <tr>\n",
       "      <th>Kyl</th>\n",
       "      <td>0.007692</td>\n",
       "      <td>0.973757</td>\n",
       "      <td>0.989362</td>\n",
       "      <td>0.945294</td>\n",
       "      <td>0.948980</td>\n",
       "    </tr>\n",
       "    <tr>\n",
       "      <th>Kerry</th>\n",
       "      <td>0.034615</td>\n",
       "      <td>0.936023</td>\n",
       "      <td>0.970060</td>\n",
       "      <td>0.882280</td>\n",
       "      <td>0.880435</td>\n",
       "    </tr>\n",
       "  </tbody>\n",
       "</table>\n",
       "</div>"
      ],
      "text/plain": [
       "           Error_Rate       AUC  Precision  Average_Precision    Recall\n",
       "Category                                                               \n",
       "Klobuchar    0.003846  0.983916   0.984375           0.956651  0.969231\n",
       "Kennedy      0.042308  0.960899   0.920213           0.916149  0.991404\n",
       "Kohl         0.008974  0.963567   0.987342           0.924510  0.928571\n",
       "Kyl          0.007692  0.973757   0.989362           0.945294  0.948980\n",
       "Kerry        0.034615  0.936023   0.970060           0.882280  0.880435"
      ]
     },
     "execution_count": 30,
     "metadata": {},
     "output_type": "execute_result"
    }
   ],
   "source": [
    "    # Connectionists - Neural Network\n",
    "clf_neural.fit(np.stack(dfTrain_senate_large['vect'], axis=0), dfTrain_senate_large['category'])\n",
    "lucem_illud.evaluateClassifier(clf_neural, dfTest_senate_large)"
   ]
  },
  {
   "cell_type": "code",
   "execution_count": 31,
   "metadata": {},
   "outputs": [
    {
     "data": {
      "image/png": "[encoded data removed]",
      "text/plain": [
       "<Figure size 432x288 with 1 Axes>"
      ]
     },
     "metadata": {
      "needs_background": "light"
     },
     "output_type": "display_data"
    }
   ],
   "source": [
    "lucem_illud.plotConfusionMatrix(clf_neural, dfTest_senate_large)"
   ]
  },
  {
   "cell_type": "code",
   "execution_count": 32,
   "metadata": {},
   "outputs": [
    {
     "data": {
      "text/html": [
       "<div>\n",
       "<style scoped>\n",
       "    .dataframe tbody tr th:only-of-type {\n",
       "        vertical-align: middle;\n",
       "    }\n",
       "\n",
       "    .dataframe tbody tr th {\n",
       "        vertical-align: top;\n",
       "    }\n",
       "\n",
       "    .dataframe thead th {\n",
       "        text-align: right;\n",
       "    }\n",
       "</style>\n",
       "<table border=\"1\" class=\"dataframe\">\n",
       "  <thead>\n",
       "    <tr style=\"text-align: right;\">\n",
       "      <th></th>\n",
       "      <th>Error_Rate</th>\n",
       "      <th>AUC</th>\n",
       "      <th>Precision</th>\n",
       "      <th>Average_Precision</th>\n",
       "      <th>Recall</th>\n",
       "    </tr>\n",
       "    <tr>\n",
       "      <th>Category</th>\n",
       "      <th></th>\n",
       "      <th></th>\n",
       "      <th></th>\n",
       "      <th></th>\n",
       "      <th></th>\n",
       "    </tr>\n",
       "  </thead>\n",
       "  <tbody>\n",
       "    <tr>\n",
       "      <th>Klobuchar</th>\n",
       "      <td>0.000000</td>\n",
       "      <td>1.000000</td>\n",
       "      <td>1.000000</td>\n",
       "      <td>1.000000</td>\n",
       "      <td>1.000000</td>\n",
       "    </tr>\n",
       "    <tr>\n",
       "      <th>Kennedy</th>\n",
       "      <td>0.006410</td>\n",
       "      <td>0.994200</td>\n",
       "      <td>0.985876</td>\n",
       "      <td>0.985876</td>\n",
       "      <td>1.000000</td>\n",
       "    </tr>\n",
       "    <tr>\n",
       "      <th>Kohl</th>\n",
       "      <td>0.005128</td>\n",
       "      <td>0.976190</td>\n",
       "      <td>1.000000</td>\n",
       "      <td>0.957509</td>\n",
       "      <td>0.952381</td>\n",
       "    </tr>\n",
       "    <tr>\n",
       "      <th>Kyl</th>\n",
       "      <td>0.000000</td>\n",
       "      <td>1.000000</td>\n",
       "      <td>1.000000</td>\n",
       "      <td>1.000000</td>\n",
       "      <td>1.000000</td>\n",
       "    </tr>\n",
       "    <tr>\n",
       "      <th>Kerry</th>\n",
       "      <td>0.001282</td>\n",
       "      <td>0.997283</td>\n",
       "      <td>1.000000</td>\n",
       "      <td>0.995847</td>\n",
       "      <td>0.994565</td>\n",
       "    </tr>\n",
       "  </tbody>\n",
       "</table>\n",
       "</div>"
      ],
      "text/plain": [
       "           Error_Rate       AUC  Precision  Average_Precision    Recall\n",
       "Category                                                               \n",
       "Klobuchar    0.000000  1.000000   1.000000           1.000000  1.000000\n",
       "Kennedy      0.006410  0.994200   0.985876           0.985876  1.000000\n",
       "Kohl         0.005128  0.976190   1.000000           0.957509  0.952381\n",
       "Kyl          0.000000  1.000000   1.000000           1.000000  1.000000\n",
       "Kerry        0.001282  0.997283   1.000000           0.995847  0.994565"
      ]
     },
     "execution_count": 32,
     "metadata": {},
     "output_type": "execute_result"
    }
   ],
   "source": [
    "    # Ensemble - Gradient\n",
    "clf_gradient.fit(np.stack(dfTrain_senate_large['vect'], axis=0), dfTrain_senate_large['category'])\n",
    "lucem_illud.evaluateClassifier(clf_gradient, dfTest_senate_large)"
   ]
  },
  {
   "cell_type": "code",
   "execution_count": 33,
   "metadata": {},
   "outputs": [
    {
     "data": {
      "image/png": "[encoded data removed]",
      "text/plain": [
       "<Figure size 432x288 with 1 Axes>"
      ]
     },
     "metadata": {
      "needs_background": "light"
     },
     "output_type": "display_data"
    }
   ],
   "source": [
    "lucem_illud.plotConfusionMatrix(clf_gradient, dfTest_senate_large)"
   ]
  },
  {
   "cell_type": "markdown",
   "metadata": {},
   "source": [
    "### Comments:\n",
    "- Interestingly, the Naive Bayes does very well on the five categories randomly created, but very poorly on the five sennators.\n",
    "- The Random Forest has the best predictive power. As the Confusion Matrix shows, it makes only one mistake in classifying the testing data."
   ]
  },
  {
   "cell_type": "markdown",
   "metadata": {},
   "source": [
    "## <span style=\"color:red\">*Exercise 2: Logistic and Naïve Bayes classification*</span>\n",
    "\n",
    "In the cells immediately following, perform Logistic and Naïve Bayes classification (binary or multinomial) using training, testing and extrapolation (uncoded) data from texts and hand-classifications associated with your final project (e.g., these could be crowd-sourced codes gathered through Amazon Mechanical Turk last week). Visualize the confusion matrix for training and testing sets. Calculate precision, recall, the F-measure, and AUC, then perform an ROC visualization. How do these classifiers perform? Exrapolate codes from these models to all uncoded data.\n"
   ]
  },
  {
   "cell_type": "markdown",
   "metadata": {},
   "source": [
    "#### Data\n",
    "\n",
    "I will be using the data from the colombian candiadates' tweets. I will be employing a sample of 1000 tweets from three candidates that occupy different places in the political field: Gustavo Petro, Pacho Santos, and Gemán Vargas Lleras.\n",
    "\n",
    "---------\n",
    "\n",
    "### Helper functions for this section:\n"
   ]
  },
  {
   "cell_type": "code",
   "execution_count": 34,
   "metadata": {},
   "outputs": [],
   "source": [
    "import re\n",
    "import spacy"
   ]
  },
  {
   "cell_type": "code",
   "execution_count": 35,
   "metadata": {},
   "outputs": [],
   "source": [
    "\n",
    "nlp = spacy.load(\"es_core_news_sm\")\n",
    "def word_tokenize(word_list):\n",
    "    tokenized = []\n",
    "    # pass word list through language model.\n",
    "    doc = nlp(word_list)\n",
    "    for token in doc:\n",
    "        if not token.is_punct and len(token.text.strip()) > 0:\n",
    "            tokenized.append(token.text)\n",
    "    return tokenized"
   ]
  },
  {
   "cell_type": "code",
   "execution_count": 36,
   "metadata": {},
   "outputs": [],
   "source": [
    "def normalizeTokens(word_list, extra_stop=[]):\n",
    "    #We can use a generator here as we just need to iterate over it\n",
    "    normalized = []\n",
    "    if type(word_list) == list and len(word_list) == 1:\n",
    "        word_list = word_list[0]\n",
    "\n",
    "    if type(word_list) == list:\n",
    "        word_list = ' '.join([str(elem) for elem in word_list]) \n",
    "\n",
    "    doc = nlp(word_list.lower())\n",
    "    \n",
    "    # add the property of stop word to words considered as stop words\n",
    "    if len(extra_stop) > 0:\n",
    "        for stopword in extra_stop:\n",
    "            lexeme = nlp.vocab[stopword]\n",
    "            lexeme.is_stop = True\n",
    "\n",
    "    for w in doc:\n",
    "        # if it's not a stop word or punctuation mark, add it to our article\n",
    "        if w.text != '\\n' and not w.is_stop and not w.is_punct and not w.like_num and len(w.text.strip()) > 0:\n",
    "            # we add the lematized version of the word\n",
    "            normalized.append(str(w.lemma_))\n",
    "\n",
    "    return normalized"
   ]
  },
  {
   "cell_type": "code",
   "execution_count": 37,
   "metadata": {},
   "outputs": [
    {
     "name": "stderr",
     "output_type": "stream",
     "text": [
      "/Users/nte/Documents/CCA2021/venv/lib/python3.8/site-packages/IPython/core/interactiveshell.py:3146: DtypeWarning: Columns (0,1,4,5,21) have mixed types.Specify dtype option on import or set low_memory=False.\n",
      "  has_raised = await self.run_ast_nodes(code_ast.body, cell_name,\n"
     ]
    }
   ],
   "source": [
    "df_twitter = pandas.read_csv('clean_data.csv')"
   ]
  },
  {
   "cell_type": "code",
   "execution_count": 38,
   "metadata": {},
   "outputs": [],
   "source": [
    "df_three_pol = df_twitter.loc[df_twitter['username'].isin(['Gustavo Petro', \n",
    "                                                            'Pacho Santos', \n",
    "                                                            'Germán Vargas Lleras'])]"
   ]
  },
  {
   "cell_type": "code",
   "execution_count": 39,
   "metadata": {},
   "outputs": [],
   "source": [
    "df_three_pol = df_three_pol.sample(1000, random_state=987)"
   ]
  },
  {
   "cell_type": "code",
   "execution_count": 40,
   "metadata": {},
   "outputs": [
    {
     "data": {
      "text/html": [
       "<div>\n",
       "<style scoped>\n",
       "    .dataframe tbody tr th:only-of-type {\n",
       "        vertical-align: middle;\n",
       "    }\n",
       "\n",
       "    .dataframe tbody tr th {\n",
       "        vertical-align: top;\n",
       "    }\n",
       "\n",
       "    .dataframe thead th {\n",
       "        text-align: right;\n",
       "    }\n",
       "</style>\n",
       "<table border=\"1\" class=\"dataframe\">\n",
       "  <thead>\n",
       "    <tr style=\"text-align: right;\">\n",
       "      <th></th>\n",
       "      <th>category</th>\n",
       "      <th>text</th>\n",
       "    </tr>\n",
       "  </thead>\n",
       "  <tbody>\n",
       "    <tr>\n",
       "      <th>9781</th>\n",
       "      <td>Gustavo Petro</td>\n",
       "      <td>@Fogonero86 me encantan los comentarios que la...</td>\n",
       "    </tr>\n",
       "    <tr>\n",
       "      <th>633387</th>\n",
       "      <td>Gustavo Petro</td>\n",
       "      <td>@TaverAndres y la industrialización de la prod...</td>\n",
       "    </tr>\n",
       "    <tr>\n",
       "      <th>75203</th>\n",
       "      <td>Germán Vargas Lleras</td>\n",
       "      <td>Con los contratos suscritos hoy,completamos 62...</td>\n",
       "    </tr>\n",
       "    <tr>\n",
       "      <th>358325</th>\n",
       "      <td>Gustavo Petro</td>\n",
       "      <td>@HELIODOPTERO a quien te refieres?</td>\n",
       "    </tr>\n",
       "    <tr>\n",
       "      <th>563673</th>\n",
       "      <td>Germán Vargas Lleras</td>\n",
       "      <td>Terminé la entrevista con Jorge Cura y ahora e...</td>\n",
       "    </tr>\n",
       "  </tbody>\n",
       "</table>\n",
       "</div>"
      ],
      "text/plain": [
       "                    category  \\\n",
       "9781           Gustavo Petro   \n",
       "633387         Gustavo Petro   \n",
       "75203   Germán Vargas Lleras   \n",
       "358325         Gustavo Petro   \n",
       "563673  Germán Vargas Lleras   \n",
       "\n",
       "                                                     text  \n",
       "9781    @Fogonero86 me encantan los comentarios que la...  \n",
       "633387  @TaverAndres y la industrialización de la prod...  \n",
       "75203   Con los contratos suscritos hoy,completamos 62...  \n",
       "358325                 @HELIODOPTERO a quien te refieres?  \n",
       "563673  Terminé la entrevista con Jorge Cura y ahora e...  "
      ]
     },
     "execution_count": 40,
     "metadata": {},
     "output_type": "execute_result"
    }
   ],
   "source": [
    "df_clean = df_three_pol[['username', 'text']]\n",
    "df_clean = df_clean.rename(columns={\"username\": \"category\", \"text\": \"text\"})\n",
    "df_clean.sample(5)"
   ]
  },
  {
   "cell_type": "code",
   "execution_count": 41,
   "metadata": {},
   "outputs": [
    {
     "data": {
      "text/html": [
       "<div>\n",
       "<style scoped>\n",
       "    .dataframe tbody tr th:only-of-type {\n",
       "        vertical-align: middle;\n",
       "    }\n",
       "\n",
       "    .dataframe tbody tr th {\n",
       "        vertical-align: top;\n",
       "    }\n",
       "\n",
       "    .dataframe thead th {\n",
       "        text-align: right;\n",
       "    }\n",
       "</style>\n",
       "<table border=\"1\" class=\"dataframe\">\n",
       "  <thead>\n",
       "    <tr style=\"text-align: right;\">\n",
       "      <th></th>\n",
       "      <th>category</th>\n",
       "      <th>text</th>\n",
       "      <th>text2</th>\n",
       "      <th>tokenized_text</th>\n",
       "      <th>normalized_text</th>\n",
       "    </tr>\n",
       "  </thead>\n",
       "  <tbody>\n",
       "    <tr>\n",
       "      <th>73110</th>\n",
       "      <td>Germán Vargas Lleras</td>\n",
       "      <td>1/4 Reitero lo que el ministro @CarlosHolmesTr...</td>\n",
       "      <td>1/4 reitero lo que el ministro carlosholmestru...</td>\n",
       "      <td>[1/4, reitero, lo, que, el, ministro, carlosho...</td>\n",
       "      <td>[reiterar, ministro, carlosholmestru, entrevis...</td>\n",
       "    </tr>\n",
       "    <tr>\n",
       "      <th>359123</th>\n",
       "      <td>Gustavo Petro</td>\n",
       "      <td>Hoy cierre de campaña a las cinco de la tarde ...</td>\n",
       "      <td>hoy cierre de campaña a las cinco de la tarde ...</td>\n",
       "      <td>[hoy, cierre, de, campaña, a, las, cinco, de, ...</td>\n",
       "      <td>[cerrar, campaña, a, barrio, blas, lezo, carta...</td>\n",
       "    </tr>\n",
       "    <tr>\n",
       "      <th>257896</th>\n",
       "      <td>Gustavo Petro</td>\n",
       "      <td>No me pongan cara de triste señores de @ELTIEM...</td>\n",
       "      <td>no me pongan cara de triste señores de eltiemp...</td>\n",
       "      <td>[no, me, pongan, cara, de, triste, señores, de...</td>\n",
       "      <td>[poner, caro, triste, señor, eltiempo, llevar,...</td>\n",
       "    </tr>\n",
       "    <tr>\n",
       "      <th>532039</th>\n",
       "      <td>Gustavo Petro</td>\n",
       "      <td>@IngRamirezUT Disculpa, pero no somos tan inge...</td>\n",
       "      <td>ingramirezut disculpa pero no somos tan ingenu...</td>\n",
       "      <td>[ingramirezut, disculpa, pero, no, somos, tan,...</td>\n",
       "      <td>[ingramirezut, disculpar, ingenuo, serio, admi...</td>\n",
       "    </tr>\n",
       "    <tr>\n",
       "      <th>284577</th>\n",
       "      <td>Germán Vargas Lleras</td>\n",
       "      <td>En varias ocasiones invité a Juan Mario a que ...</td>\n",
       "      <td>en varias ocasiones invité a juan mario a que ...</td>\n",
       "      <td>[en, varias, ocasiones, invité, a, juan, mario...</td>\n",
       "      <td>[ocasionar, invitar, a, juan, mario, a, integr...</td>\n",
       "    </tr>\n",
       "  </tbody>\n",
       "</table>\n",
       "</div>"
      ],
      "text/plain": [
       "                    category  \\\n",
       "73110   Germán Vargas Lleras   \n",
       "359123         Gustavo Petro   \n",
       "257896         Gustavo Petro   \n",
       "532039         Gustavo Petro   \n",
       "284577  Germán Vargas Lleras   \n",
       "\n",
       "                                                     text  \\\n",
       "73110   1/4 Reitero lo que el ministro @CarlosHolmesTr...   \n",
       "359123  Hoy cierre de campaña a las cinco de la tarde ...   \n",
       "257896  No me pongan cara de triste señores de @ELTIEM...   \n",
       "532039  @IngRamirezUT Disculpa, pero no somos tan inge...   \n",
       "284577  En varias ocasiones invité a Juan Mario a que ...   \n",
       "\n",
       "                                                    text2  \\\n",
       "73110   1/4 reitero lo que el ministro carlosholmestru...   \n",
       "359123  hoy cierre de campaña a las cinco de la tarde ...   \n",
       "257896  no me pongan cara de triste señores de eltiemp...   \n",
       "532039  ingramirezut disculpa pero no somos tan ingenu...   \n",
       "284577  en varias ocasiones invité a juan mario a que ...   \n",
       "\n",
       "                                           tokenized_text  \\\n",
       "73110   [1/4, reitero, lo, que, el, ministro, carlosho...   \n",
       "359123  [hoy, cierre, de, campaña, a, las, cinco, de, ...   \n",
       "257896  [no, me, pongan, cara, de, triste, señores, de...   \n",
       "532039  [ingramirezut, disculpa, pero, no, somos, tan,...   \n",
       "284577  [en, varias, ocasiones, invité, a, juan, mario...   \n",
       "\n",
       "                                          normalized_text  \n",
       "73110   [reiterar, ministro, carlosholmestru, entrevis...  \n",
       "359123  [cerrar, campaña, a, barrio, blas, lezo, carta...  \n",
       "257896  [poner, caro, triste, señor, eltiempo, llevar,...  \n",
       "532039  [ingramirezut, disculpar, ingenuo, serio, admi...  \n",
       "284577  [ocasionar, invitar, a, juan, mario, a, integr...  "
      ]
     },
     "execution_count": 41,
     "metadata": {},
     "output_type": "execute_result"
    }
   ],
   "source": [
    "# Some text cleaning using regular expressions\n",
    "\n",
    "df_clean['text2'] = df_clean['text'].apply(lambda x: re.sub('[¡!@#$:).;,¿?&]', '', x.lower()))\n",
    "df_clean['tokenized_text'] = df_clean['text2'].apply(lambda x: word_tokenize(x))\n",
    "df_clean['normalized_text'] = df_clean['tokenized_text'].apply(lambda x: normalizeTokens(x))\n",
    "df_clean.sample(5)"
   ]
  },
  {
   "cell_type": "code",
   "execution_count": 42,
   "metadata": {},
   "outputs": [],
   "source": [
    "# Creating training and testing sets\n",
    "\n",
    "holdBackFraction = .2\n",
    "train_data, test_data = lucem_illud.trainTestSplit(df_clean, holdBackFraction=holdBackFraction)"
   ]
  },
  {
   "cell_type": "code",
   "execution_count": 43,
   "metadata": {},
   "outputs": [
    {
     "name": "stdout",
     "output_type": "stream",
     "text": [
      "800\n",
      "200\n"
     ]
    }
   ],
   "source": [
    "print(len(train_data))\n",
    "print(len(test_data))"
   ]
  },
  {
   "cell_type": "code",
   "execution_count": 44,
   "metadata": {},
   "outputs": [],
   "source": [
    "TFVectorizer_ng = sklearn.feature_extraction.text.TfidfVectorizer(max_df=100, min_df=2, norm='l2')\n",
    "TFVects_ng = TFVectorizer_ng.fit_transform(train_data['text'])\n",
    "train_data['vect'] = [np.array(v).flatten() for v in TFVects_ng.todense()]"
   ]
  },
  {
   "cell_type": "code",
   "execution_count": 45,
   "metadata": {},
   "outputs": [
    {
     "data": {
      "text/plain": [
       "181917    [0.0, 0.0, 0.0, 0.0, 0.0, 0.0, 0.0, 0.0, 0.0, ...\n",
       "284996    [0.0, 0.0, 0.0, 0.0, 0.0, 0.0, 0.0, 0.0, 0.0, ...\n",
       "581527    [0.0, 0.0, 0.0, 0.0, 0.0, 0.0, 0.0, 0.0, 0.0, ...\n",
       "584548    [0.0, 0.0, 0.0, 0.0, 0.0, 0.0, 0.0, 0.0, 0.0, ...\n",
       "416161    [0.0, 0.0, 0.0, 0.0, 0.0, 0.0, 0.0, 0.0, 0.0, ...\n",
       "Name: vect, dtype: object"
      ]
     },
     "execution_count": 45,
     "metadata": {},
     "output_type": "execute_result"
    }
   ],
   "source": [
    "train_data['vect'].sample(5)"
   ]
  },
  {
   "cell_type": "code",
   "execution_count": 46,
   "metadata": {},
   "outputs": [],
   "source": [
    "pca = sklearn.decomposition.PCA()\n",
    "reduced_data = pca.fit_transform(np.stack(train_data['vect'], axis=0))"
   ]
  },
  {
   "cell_type": "code",
   "execution_count": 47,
   "metadata": {},
   "outputs": [],
   "source": [
    "train_data['pca'] = [r for r in reduced_data]"
   ]
  },
  {
   "cell_type": "code",
   "execution_count": 48,
   "metadata": {},
   "outputs": [
    {
     "name": "stderr",
     "output_type": "stream",
     "text": [
      "*c* argument looks like a single numeric RGB or RGBA sequence, which should be avoided as value-mapping will have precedence in case its length matches with *x* & *y*.  Please use the *color* keyword-argument or provide a 2-D array with a single row if you intend to specify the same RGB or RGBA value for all points.\n",
      "*c* argument looks like a single numeric RGB or RGBA sequence, which should be avoided as value-mapping will have precedence in case its length matches with *x* & *y*.  Please use the *color* keyword-argument or provide a 2-D array with a single row if you intend to specify the same RGB or RGBA value for all points.\n",
      "*c* argument looks like a single numeric RGB or RGBA sequence, which should be avoided as value-mapping will have precedence in case its length matches with *x* & *y*.  Please use the *color* keyword-argument or provide a 2-D array with a single row if you intend to specify the same RGB or RGBA value for all points.\n"
     ]
    },
    {
     "data": {
      "image/png": "[encoded data removed]",
      "text/plain": [
       "<Figure size 720x720 with 1 Axes>"
      ]
     },
     "metadata": {
      "needs_background": "light"
     },
     "output_type": "display_data"
    }
   ],
   "source": [
    "fig, ax = plt.subplots(figsize = (10,10))\n",
    "ax.axis('off')\n",
    "pallet = seaborn.color_palette(palette='coolwarm', n_colors = 3)\n",
    "\n",
    "#Plot Petro\n",
    "a = np.stack(train_data[train_data['category']==\"Gustavo Petro\"]['pca'])\n",
    "ax.scatter(a[:,0], a[:, 1], c = pallet[0], label = \"Petro\")\n",
    "\n",
    "#Plot Lleras\n",
    "a = np.stack(train_data[train_data['category']==\"Germán Vargas Lleras\"]['pca'])\n",
    "ax.scatter(a[:,0], a[:, 1], c = pallet[1], label = \"Lleras\")\n",
    "\n",
    "#Plot F.Santos\n",
    "a = np.stack(train_data[train_data['category']==\"Pacho Santos\"]['pca'])\n",
    "ax.scatter(a[:,0], a[:, 1], c = pallet[2], label = \"F.Santos\")\n",
    "    \n",
    "ax.legend(loc = 'upper right', title = 'Candidate')\n",
    "plt.title('Candidates Classes, Training Set')\n",
    "plt.show()"
   ]
  },
  {
   "cell_type": "markdown",
   "metadata": {},
   "source": [
    "### These candidates do not seem to be easily distinguishable."
   ]
  },
  {
   "cell_type": "code",
   "execution_count": 49,
   "metadata": {},
   "outputs": [
    {
     "data": {
      "image/png": "[encoded data removed]",
      "text/plain": [
       "<Figure size 1152x360 with 3 Axes>"
      ]
     },
     "metadata": {
      "needs_background": "light"
     },
     "output_type": "display_data"
    }
   ],
   "source": [
    "n = len(train_data)\n",
    "\n",
    "fig, (ax1, ax2, ax3) = plt.subplots(ncols=3, figsize = (16, 5), sharey=True)\n",
    "\n",
    "eigen_vals = np.arange(n) + 1\n",
    "ax1.plot(eigen_vals, pca.explained_variance_ratio_, 'ro-', linewidth=1)\n",
    "ax1.set_title('Screen Plot (Full)')\n",
    "ax1.set_xlabel('Principal Component')\n",
    "ax1.set_ylabel('Proportion of Explained Variance')\n",
    "\n",
    "eigen_vals = np.arange(50) + 1\n",
    "ax2.plot(eigen_vals, pca.explained_variance_ratio_[:50], 'ro-', linewidth=1)\n",
    "ax2.set_title('Screen Plot (First 50 Principal Components)')\n",
    "ax2.set_xlabel('Principal Component')\n",
    "ax2.set_ylabel('Proportion of Explained Variance')\n",
    "\n",
    "\n",
    "eigen_vals = np.arange(20) + 1\n",
    "ax3.plot(eigen_vals, pca.explained_variance_ratio_[:20], 'ro-', linewidth=2)\n",
    "ax3.set_title('Screen Plot (First 20 Principal Components)')\n",
    "ax3.set_xlabel('Principal Component')\n",
    "ax3.set_ylabel('Proportion of Explained Variance')\n",
    "\n",
    "plt.show()"
   ]
  },
  {
   "cell_type": "code",
   "execution_count": 50,
   "metadata": {},
   "outputs": [],
   "source": [
    "train_data['pca_reduced_10'] = train_data['pca'].apply(lambda x: x[:10])"
   ]
  },
  {
   "cell_type": "markdown",
   "metadata": {},
   "source": [
    "### Logistic:"
   ]
  },
  {
   "cell_type": "code",
   "execution_count": 51,
   "metadata": {},
   "outputs": [
    {
     "data": {
      "text/plain": [
       "LogisticRegression()"
      ]
     },
     "execution_count": 51,
     "metadata": {},
     "output_type": "execute_result"
    }
   ],
   "source": [
    "logistic = sklearn.linear_model.LogisticRegression()\n",
    "logistic.fit(np.stack(train_data['pca_reduced_10'], axis=0), train_data['category'])"
   ]
  },
  {
   "cell_type": "code",
   "execution_count": 52,
   "metadata": {},
   "outputs": [
    {
     "data": {
      "text/plain": [
       "0.66"
      ]
     },
     "execution_count": 52,
     "metadata": {},
     "output_type": "execute_result"
    }
   ],
   "source": [
    "logistic.score(np.stack(train_data['pca_reduced_10'], axis=0), train_data['category'])"
   ]
  },
  {
   "cell_type": "code",
   "execution_count": 53,
   "metadata": {},
   "outputs": [
    {
     "data": {
      "text/plain": [
       "0.655"
      ]
     },
     "execution_count": 53,
     "metadata": {},
     "output_type": "execute_result"
    }
   ],
   "source": [
    "#Create vectors\n",
    "TFVects_test = TFVectorizer_ng.transform(test_data['text'])\n",
    "test_data['vect'] = [np.array(v).flatten() for v in TFVects_test.todense()]\n",
    "\n",
    "#PCA\n",
    "reduced_data_test = pca.transform(np.stack(test_data['vect'], axis=0))\n",
    "test_data['pca'] = [r for r in reduced_data_test]\n",
    "test_data['pca_reduced_10'] = test_data['pca'].apply(lambda x: x[:10])\n",
    "\n",
    "#Test\n",
    "logistic.score(np.stack(test_data['pca_reduced_10'], axis=0), test_data['category'])"
   ]
  },
  {
   "cell_type": "code",
   "execution_count": 54,
   "metadata": {},
   "outputs": [
    {
     "name": "stdout",
     "output_type": "stream",
     "text": [
      "Training:\n",
      "0.84\n",
      "Testing:\n",
      "0.69\n"
     ]
    }
   ],
   "source": [
    "# Overfitting\n",
    "\n",
    "train_data['pca_reduced_400'] = train_data['pca'].apply(lambda x: x[:400])\n",
    "test_data['pca_reduced_400'] = test_data['pca'].apply(lambda x: x[:400])\n",
    "\n",
    "logistic.fit(np.stack(train_data['pca_reduced_400'], axis=0), train_data['category'])\n",
    "\n",
    "print(\"Training:\")\n",
    "print(logistic.score(np.stack(train_data['pca_reduced_400'], axis=0), train_data['category']))\n",
    "print(\"Testing:\")\n",
    "print(logistic.score(np.stack(test_data['pca_reduced_400'], axis=0), test_data['category']))"
   ]
  },
  {
   "cell_type": "markdown",
   "metadata": {},
   "source": [
    "### Naive Bayes"
   ]
  },
  {
   "cell_type": "code",
   "execution_count": 55,
   "metadata": {},
   "outputs": [
    {
     "data": {
      "text/plain": [
       "BernoulliNB()"
      ]
     },
     "execution_count": 55,
     "metadata": {},
     "output_type": "execute_result"
    }
   ],
   "source": [
    "naiveBayes = sklearn.naive_bayes.BernoulliNB()\n",
    "naiveBayes.fit(np.stack(train_data['vect'], axis=0), train_data['category'])"
   ]
  },
  {
   "cell_type": "code",
   "execution_count": 56,
   "metadata": {},
   "outputs": [
    {
     "name": "stdout",
     "output_type": "stream",
     "text": [
      "Training:\n",
      "0.88\n",
      "Testing:\n",
      "0.715\n"
     ]
    }
   ],
   "source": [
    "print(\"Training:\")\n",
    "print(naiveBayes.score(np.stack(train_data['vect'], axis=0), train_data['category']))\n",
    "print(\"Testing:\")\n",
    "print(naiveBayes.score(np.stack(test_data['vect'], axis=0), test_data['category']))"
   ]
  },
  {
   "cell_type": "code",
   "execution_count": 57,
   "metadata": {},
   "outputs": [],
   "source": [
    "test_data['nb_predict'] = naiveBayes.predict(np.stack(test_data['vect'], axis=0))\n",
    "test_data['nb_predict_prob_true'] = naiveBayes.predict_proba(np.stack(test_data['vect'], axis=0))[:,0] #other is prop false"
   ]
  },
  {
   "cell_type": "code",
   "execution_count": 58,
   "metadata": {},
   "outputs": [
    {
     "name": "stderr",
     "output_type": "stream",
     "text": [
      "/Users/nte/Documents/CCA2021/venv/lib/python3.8/site-packages/sklearn/metrics/_classification.py:1245: UndefinedMetricWarning: Precision is ill-defined and being set to 0.0 in labels with no predicted samples. Use `zero_division` parameter to control this behavior.\n",
      "  _warn_prf(average, modifier, msg_start, len(result))\n"
     ]
    },
    {
     "data": {
      "text/plain": [
       "0.6136834687448185"
      ]
     },
     "execution_count": 58,
     "metadata": {},
     "output_type": "execute_result"
    }
   ],
   "source": [
    "# Precision\n",
    "\n",
    "sklearn.metrics.precision_score(test_data['category'], test_data['nb_predict'], average='weighted')"
   ]
  },
  {
   "cell_type": "code",
   "execution_count": 59,
   "metadata": {},
   "outputs": [
    {
     "data": {
      "text/plain": [
       "0.715"
      ]
     },
     "execution_count": 59,
     "metadata": {},
     "output_type": "execute_result"
    }
   ],
   "source": [
    "# Recall\n",
    "\n",
    "sklearn.metrics.recall_score(test_data['category'], test_data['nb_predict'], average='weighted')"
   ]
  },
  {
   "cell_type": "code",
   "execution_count": 60,
   "metadata": {},
   "outputs": [
    {
     "data": {
      "text/plain": [
       "0.6434941837144003"
      ]
     },
     "execution_count": 60,
     "metadata": {},
     "output_type": "execute_result"
    }
   ],
   "source": [
    "# F1_score\n",
    "\n",
    "sklearn.metrics.f1_score(test_data['category'], test_data['nb_predict'], average='weighted')"
   ]
  },
  {
   "cell_type": "markdown",
   "metadata": {},
   "source": [
    "## <span style=\"color:red\">*Exercise 3: Desicion Trees and Random Forest Classification*</span>\n",
    "\n",
    "In the cells immediately following, perform decision tree and random forest classification (binary, multinomial or continuous) using training, testing and extrapolation (uncoded) data from texts and hand-classifications associated with your final project. As with ***Exercise 2***, these could be crowd-sourced codes gathered through Amazon Mechanical Turk last week. Visualize the classification of data points. Calculate relevant metrics (e.g., precision, recall, the F-measure, and AUC). Now build an ensemble classifier by bagging trees into a random forest. Visualize the result. How do these classifiers perform? What does ensemble learning do?"
   ]
  },
  {
   "cell_type": "code",
   "execution_count": 61,
   "metadata": {},
   "outputs": [],
   "source": [
    "# Creating new training and testing sets\n",
    "holdBackFraction = .2\n",
    "train_data, test_data = lucem_illud.trainTestSplit(df_clean, holdBackFraction=holdBackFraction)"
   ]
  },
  {
   "cell_type": "code",
   "execution_count": 62,
   "metadata": {},
   "outputs": [],
   "source": [
    "# Vectorizing the text\n",
    "## training data\n",
    "TFVectorizer3 = sklearn.feature_extraction.text.TfidfVectorizer(max_df=100, min_df=2, norm='l2')\n",
    "TFVects3 = TFVectorizer3.fit_transform(train_data['text'])\n",
    "train_data['vect'] = [np.array(v).flatten() for v in TFVects3.todense()]\n",
    "\n",
    "## testing data\n",
    "TFVects3 = TFVectorizer3.fit_transform(test_data['text'])\n",
    "test_data['vect'] = [np.array(v).flatten() for v in TFVects3.todense()]"
   ]
  },
  {
   "cell_type": "code",
   "execution_count": 63,
   "metadata": {},
   "outputs": [
    {
     "data": {
      "text/plain": [
       "DecisionTreeClassifier(max_depth=4, random_state=0)"
      ]
     },
     "execution_count": 63,
     "metadata": {},
     "output_type": "execute_result"
    }
   ],
   "source": [
    "# Creating the tree\n",
    "clf_tree = sklearn.tree.DecisionTreeClassifier(max_depth=4,random_state=0)\n",
    "clf_tree.fit(np.stack(train_data['vect'], axis =0), train_data['category'])"
   ]
  },
  {
   "cell_type": "code",
   "execution_count": 64,
   "metadata": {},
   "outputs": [
    {
     "name": "stderr",
     "output_type": "stream",
     "text": [
      "*c* argument looks like a single numeric RGB or RGBA sequence, which should be avoided as value-mapping will have precedence in case its length matches with *x* & *y*.  Please use the *color* keyword-argument or provide a 2-D array with a single row if you intend to specify the same RGB or RGBA value for all points.\n",
      "*c* argument looks like a single numeric RGB or RGBA sequence, which should be avoided as value-mapping will have precedence in case its length matches with *x* & *y*.  Please use the *color* keyword-argument or provide a 2-D array with a single row if you intend to specify the same RGB or RGBA value for all points.\n",
      "*c* argument looks like a single numeric RGB or RGBA sequence, which should be avoided as value-mapping will have precedence in case its length matches with *x* & *y*.  Please use the *color* keyword-argument or provide a 2-D array with a single row if you intend to specify the same RGB or RGBA value for all points.\n"
     ]
    },
    {
     "data": {
      "image/png": "[encoded data removed]",
      "text/plain": [
       "<Figure size 720x720 with 1 Axes>"
      ]
     },
     "metadata": {
      "needs_background": "light"
     },
     "output_type": "display_data"
    }
   ],
   "source": [
    "# Visualize\n",
    "lucem_illud.plotregions(clf_tree, train_data)"
   ]
  },
  {
   "cell_type": "code",
   "execution_count": 65,
   "metadata": {},
   "outputs": [
    {
     "data": {
      "text/html": [
       "<div>\n",
       "<style scoped>\n",
       "    .dataframe tbody tr th:only-of-type {\n",
       "        vertical-align: middle;\n",
       "    }\n",
       "\n",
       "    .dataframe tbody tr th {\n",
       "        vertical-align: top;\n",
       "    }\n",
       "\n",
       "    .dataframe thead th {\n",
       "        text-align: right;\n",
       "    }\n",
       "</style>\n",
       "<table border=\"1\" class=\"dataframe\">\n",
       "  <thead>\n",
       "    <tr style=\"text-align: right;\">\n",
       "      <th></th>\n",
       "      <th>Error_Rate</th>\n",
       "      <th>AUC</th>\n",
       "      <th>Precision</th>\n",
       "      <th>Average_Precision</th>\n",
       "      <th>Recall</th>\n",
       "    </tr>\n",
       "    <tr>\n",
       "      <th>Category</th>\n",
       "      <th></th>\n",
       "      <th></th>\n",
       "      <th></th>\n",
       "      <th></th>\n",
       "      <th></th>\n",
       "    </tr>\n",
       "  </thead>\n",
       "  <tbody>\n",
       "    <tr>\n",
       "      <th>Pacho Santos</th>\n",
       "      <td>0.135</td>\n",
       "      <td>0.522124</td>\n",
       "      <td>1.000000</td>\n",
       "      <td>0.179248</td>\n",
       "      <td>0.044248</td>\n",
       "    </tr>\n",
       "    <tr>\n",
       "      <th>Gustavo Petro</th>\n",
       "      <td>0.370</td>\n",
       "      <td>0.564706</td>\n",
       "      <td>0.608466</td>\n",
       "      <td>0.608466</td>\n",
       "      <td>1.000000</td>\n",
       "    </tr>\n",
       "    <tr>\n",
       "      <th>Germán Vargas Lleras</th>\n",
       "      <td>0.235</td>\n",
       "      <td>0.585903</td>\n",
       "      <td>1.000000</td>\n",
       "      <td>0.406806</td>\n",
       "      <td>0.171806</td>\n",
       "    </tr>\n",
       "  </tbody>\n",
       "</table>\n",
       "</div>"
      ],
      "text/plain": [
       "                      Error_Rate       AUC  Precision  Average_Precision  \\\n",
       "Category                                                                   \n",
       "Pacho Santos               0.135  0.522124   1.000000           0.179248   \n",
       "Gustavo Petro              0.370  0.564706   0.608466           0.608466   \n",
       "Germán Vargas Lleras       0.235  0.585903   1.000000           0.406806   \n",
       "\n",
       "                        Recall  \n",
       "Category                        \n",
       "Pacho Santos          0.044248  \n",
       "Gustavo Petro         1.000000  \n",
       "Germán Vargas Lleras  0.171806  "
      ]
     },
     "execution_count": 65,
     "metadata": {},
     "output_type": "execute_result"
    }
   ],
   "source": [
    "lucem_illud.evaluateClassifier(clf_tree, train_data)"
   ]
  },
  {
   "cell_type": "markdown",
   "metadata": {},
   "source": [
    "### Very bad average and recall for Vargas Lleras and Pacho Santos. In fact, the three is classigying everything as one of the candidates. I wonder why."
   ]
  },
  {
   "cell_type": "code",
   "execution_count": 66,
   "metadata": {},
   "outputs": [
    {
     "data": {
      "image/png": "[encoded data removed]",
      "text/plain": [
       "<Figure size 432x288 with 1 Axes>"
      ]
     },
     "metadata": {
      "needs_background": "light"
     },
     "output_type": "display_data"
    }
   ],
   "source": [
    "# Trimming the tree\n",
    "\n",
    "depthvec = []\n",
    "scorevec = []\n",
    "for i in range(1,20):\n",
    "    tree2 = sklearn.tree.DecisionTreeClassifier(max_depth=i,random_state=0)\n",
    "    tree2.fit(np.stack(train_data['vect'], axis =0), train_data['category'])\n",
    "    score = sklearn.metrics.accuracy_score(train_data['category'], \n",
    "                                           tree2.predict(np.stack(train_data['vect'], axis = 0)))\n",
    "    depthvec.append(i)\n",
    "    scorevec.append(score)\n",
    "plt.scatter(depthvec,scorevec)\n",
    "plt.show()"
   ]
  },
  {
   "cell_type": "markdown",
   "metadata": {},
   "source": [
    "### The acuracy does not seem to increase significantly, no matter how many layers the tree has. Each layer increases precision in about 0.025."
   ]
  },
  {
   "cell_type": "code",
   "execution_count": 67,
   "metadata": {},
   "outputs": [],
   "source": [
    "# Ramdom Forest\n",
    "\n",
    "tree = sklearn.tree.DecisionTreeClassifier(max_depth=10) #Create an instance of our decision tree classifier.\n",
    "\n",
    "bag = sklearn.ensemble.BaggingClassifier(tree, n_estimators=100, max_samples=0.8, random_state=1) #Each tree uses up to 80% of the data"
   ]
  },
  {
   "cell_type": "code",
   "execution_count": 68,
   "metadata": {},
   "outputs": [
    {
     "data": {
      "text/plain": [
       "BaggingClassifier(base_estimator=DecisionTreeClassifier(max_depth=10),\n",
       "                  max_samples=0.8, n_estimators=100, random_state=1)"
      ]
     },
     "execution_count": 68,
     "metadata": {},
     "output_type": "execute_result"
    }
   ],
   "source": [
    "bag.fit(np.stack(train_data['vect'], axis =0), train_data['category']) #Fit the bagged classifier"
   ]
  },
  {
   "cell_type": "markdown",
   "metadata": {},
   "source": [
    "#### There is a problem with the size of the vector in the training vs the testing data. Not sure why."
   ]
  },
  {
   "cell_type": "markdown",
   "metadata": {},
   "source": [
    "## <span style=\"color:red\">*Exercise 4: K-nearest Neighbor Classification*</span>\n",
    "\n",
    "In the cells immediately following, perform and visualize k-nearest neighbor classification using training, testing and extrapolation (uncoded) data from texts and hand-classifications associated with your final project. Visualize the classification of data points and calculate relevant metrics (e.g., precision, recall, the F-measure, and AUC). Articulate how the *k*-nearest neighbor approach relates to *k*-means clustering explored in ***week 3***?"
   ]
  },
  {
   "cell_type": "code",
   "execution_count": 69,
   "metadata": {},
   "outputs": [],
   "source": [
    "# I'll use the train and test from the previous excercise\n",
    "\n",
    "n_neighbors = 4\n",
    "weights=\"uniform\"\n",
    "clf_knearest = sklearn.neighbors.KNeighborsClassifier(n_neighbors, weights=weights)"
   ]
  },
  {
   "cell_type": "code",
   "execution_count": 70,
   "metadata": {},
   "outputs": [],
   "source": [
    "# I won't use the stopwords parameter bc it can't acommodate Spanish.\n",
    "# Instead, I'll use the max_df parameter that detect and filter stop words based on intra corpus document frequency of terms.\n",
    "\n",
    "TFVectorizer_ng = sklearn.feature_extraction.text.TfidfVectorizer(max_df=100, min_df=2, norm='l2')\n",
    "TFVects_ng = TFVectorizer_ng.fit_transform(train_data['text'])\n",
    "train_data['vect'] = [np.array(v).flatten() for v in TFVects_ng.todense()]"
   ]
  },
  {
   "cell_type": "code",
   "execution_count": 71,
   "metadata": {},
   "outputs": [
    {
     "data": {
      "text/plain": [
       "KNeighborsClassifier(n_neighbors=4)"
      ]
     },
     "execution_count": 71,
     "metadata": {},
     "output_type": "execute_result"
    }
   ],
   "source": [
    "\n",
    "clf_knearest.fit(np.stack(train_data['vect'], axis = 0), train_data['category'])\n"
   ]
  },
  {
   "cell_type": "code",
   "execution_count": 72,
   "metadata": {},
   "outputs": [
    {
     "data": {
      "text/html": [
       "<div>\n",
       "<style scoped>\n",
       "    .dataframe tbody tr th:only-of-type {\n",
       "        vertical-align: middle;\n",
       "    }\n",
       "\n",
       "    .dataframe tbody tr th {\n",
       "        vertical-align: top;\n",
       "    }\n",
       "\n",
       "    .dataframe thead th {\n",
       "        text-align: right;\n",
       "    }\n",
       "</style>\n",
       "<table border=\"1\" class=\"dataframe\">\n",
       "  <thead>\n",
       "    <tr style=\"text-align: right;\">\n",
       "      <th></th>\n",
       "      <th>Error_Rate</th>\n",
       "      <th>AUC</th>\n",
       "      <th>Precision</th>\n",
       "      <th>Average_Precision</th>\n",
       "      <th>Recall</th>\n",
       "    </tr>\n",
       "    <tr>\n",
       "      <th>Category</th>\n",
       "      <th></th>\n",
       "      <th></th>\n",
       "      <th></th>\n",
       "      <th></th>\n",
       "      <th></th>\n",
       "    </tr>\n",
       "  </thead>\n",
       "  <tbody>\n",
       "    <tr>\n",
       "      <th>Pacho Santos</th>\n",
       "      <td>0.09375</td>\n",
       "      <td>0.668142</td>\n",
       "      <td>1.000000</td>\n",
       "      <td>0.430033</td>\n",
       "      <td>0.336283</td>\n",
       "    </tr>\n",
       "    <tr>\n",
       "      <th>Gustavo Petro</th>\n",
       "      <td>0.13875</td>\n",
       "      <td>0.859015</td>\n",
       "      <td>0.883516</td>\n",
       "      <td>0.844617</td>\n",
       "      <td>0.873913</td>\n",
       "    </tr>\n",
       "    <tr>\n",
       "      <th>Germán Vargas Lleras</th>\n",
       "      <td>0.10000</td>\n",
       "      <td>0.930192</td>\n",
       "      <td>0.739414</td>\n",
       "      <td>0.739414</td>\n",
       "      <td>1.000000</td>\n",
       "    </tr>\n",
       "  </tbody>\n",
       "</table>\n",
       "</div>"
      ],
      "text/plain": [
       "                      Error_Rate       AUC  Precision  Average_Precision  \\\n",
       "Category                                                                   \n",
       "Pacho Santos             0.09375  0.668142   1.000000           0.430033   \n",
       "Gustavo Petro            0.13875  0.859015   0.883516           0.844617   \n",
       "Germán Vargas Lleras     0.10000  0.930192   0.739414           0.739414   \n",
       "\n",
       "                        Recall  \n",
       "Category                        \n",
       "Pacho Santos          0.336283  \n",
       "Gustavo Petro         0.873913  \n",
       "Germán Vargas Lleras  1.000000  "
      ]
     },
     "execution_count": 72,
     "metadata": {},
     "output_type": "execute_result"
    }
   ],
   "source": [
    "lucem_illud.evaluateClassifier(clf_knearest, train_data)"
   ]
  },
  {
   "cell_type": "code",
   "execution_count": 73,
   "metadata": {},
   "outputs": [
    {
     "name": "stdout",
     "output_type": "stream",
     "text": [
      "Testing score:\n",
      "0.635\n"
     ]
    }
   ],
   "source": [
    "#Create vectors\n",
    "TFVects_test = TFVectorizer_ng.transform(test_data['text'])\n",
    "test_data['vect'] = [np.array(v).flatten() for v in TFVects_test.todense()]\n",
    "\n",
    "#Add to df\n",
    "test_data['nb_predict'] = clf_knearest.predict(np.stack(test_data['vect'], axis=0))\n",
    "\n",
    "#Test\n",
    "print(\"Testing score:\")\n",
    "print(clf_knearest.score(np.stack(test_data['vect'], axis=0), test_data['category']))"
   ]
  },
  {
   "cell_type": "code",
   "execution_count": 74,
   "metadata": {},
   "outputs": [
    {
     "data": {
      "image/png": "[encoded data removed]",
      "text/plain": [
       "<Figure size 432x288 with 1 Axes>"
      ]
     },
     "metadata": {
      "needs_background": "light"
     },
     "output_type": "display_data"
    }
   ],
   "source": [
    "lucem_illud.plotConfusionMatrix(clf_knearest, test_data)"
   ]
  },
  {
   "cell_type": "markdown",
   "metadata": {},
   "source": [
    "### It does a terrible job."
   ]
  },
  {
   "cell_type": "code",
   "execution_count": 75,
   "metadata": {},
   "outputs": [
    {
     "name": "stderr",
     "output_type": "stream",
     "text": [
      "*c* argument looks like a single numeric RGB or RGBA sequence, which should be avoided as value-mapping will have precedence in case its length matches with *x* & *y*.  Please use the *color* keyword-argument or provide a 2-D array with a single row if you intend to specify the same RGB or RGBA value for all points.\n",
      "*c* argument looks like a single numeric RGB or RGBA sequence, which should be avoided as value-mapping will have precedence in case its length matches with *x* & *y*.  Please use the *color* keyword-argument or provide a 2-D array with a single row if you intend to specify the same RGB or RGBA value for all points.\n",
      "*c* argument looks like a single numeric RGB or RGBA sequence, which should be avoided as value-mapping will have precedence in case its length matches with *x* & *y*.  Please use the *color* keyword-argument or provide a 2-D array with a single row if you intend to specify the same RGB or RGBA value for all points.\n"
     ]
    },
    {
     "data": {
      "image/png": "[encoded data removed]",
      "text/plain": [
       "<Figure size 720x720 with 1 Axes>"
      ]
     },
     "metadata": {
      "needs_background": "light"
     },
     "output_type": "display_data"
    }
   ],
   "source": [
    "lucem_illud.plotregions(clf_knearest, test_data)"
   ]
  },
  {
   "cell_type": "markdown",
   "metadata": {},
   "source": [
    "## <span style=\"color:red\">*Exercise 5: Neural Net Classification*</span>\n",
    "\n",
    "<span style=\"color:red\">In the cells immediately following, perform a neural network classification and calculate relevant metrics (e.g., precision, recall, the F-measure, and AUC). How does this classify relevant to *k*-nearest neighbor, Naive Bayes, logistic and decision-tree approaches?"
   ]
  },
  {
   "cell_type": "code",
   "execution_count": 76,
   "metadata": {},
   "outputs": [],
   "source": [
    "clf_nn = sklearn.neural_network.MLPClassifier()"
   ]
  },
  {
   "cell_type": "code",
   "execution_count": 77,
   "metadata": {},
   "outputs": [
    {
     "data": {
      "text/plain": [
       "MLPClassifier()"
      ]
     },
     "execution_count": 77,
     "metadata": {},
     "output_type": "execute_result"
    }
   ],
   "source": [
    "clf_nn.fit(np.stack(train_data['vect'], axis=0), train_data['category'])"
   ]
  },
  {
   "cell_type": "code",
   "execution_count": 78,
   "metadata": {},
   "outputs": [
    {
     "data": {
      "text/html": [
       "<div>\n",
       "<style scoped>\n",
       "    .dataframe tbody tr th:only-of-type {\n",
       "        vertical-align: middle;\n",
       "    }\n",
       "\n",
       "    .dataframe tbody tr th {\n",
       "        vertical-align: top;\n",
       "    }\n",
       "\n",
       "    .dataframe thead th {\n",
       "        text-align: right;\n",
       "    }\n",
       "</style>\n",
       "<table border=\"1\" class=\"dataframe\">\n",
       "  <thead>\n",
       "    <tr style=\"text-align: right;\">\n",
       "      <th></th>\n",
       "      <th>Error_Rate</th>\n",
       "      <th>AUC</th>\n",
       "      <th>Precision</th>\n",
       "      <th>Average_Precision</th>\n",
       "      <th>Recall</th>\n",
       "    </tr>\n",
       "    <tr>\n",
       "      <th>Category</th>\n",
       "      <th></th>\n",
       "      <th></th>\n",
       "      <th></th>\n",
       "      <th></th>\n",
       "      <th></th>\n",
       "    </tr>\n",
       "  </thead>\n",
       "  <tbody>\n",
       "    <tr>\n",
       "      <th>Pacho Santos</th>\n",
       "      <td>0.145</td>\n",
       "      <td>0.677133</td>\n",
       "      <td>0.541667</td>\n",
       "      <td>0.317151</td>\n",
       "      <td>0.419355</td>\n",
       "    </tr>\n",
       "    <tr>\n",
       "      <th>Gustavo Petro</th>\n",
       "      <td>0.185</td>\n",
       "      <td>0.799866</td>\n",
       "      <td>0.812500</td>\n",
       "      <td>0.787222</td>\n",
       "      <td>0.888889</td>\n",
       "    </tr>\n",
       "    <tr>\n",
       "      <th>Germán Vargas Lleras</th>\n",
       "      <td>0.110</td>\n",
       "      <td>0.844595</td>\n",
       "      <td>0.812500</td>\n",
       "      <td>0.674375</td>\n",
       "      <td>0.750000</td>\n",
       "    </tr>\n",
       "  </tbody>\n",
       "</table>\n",
       "</div>"
      ],
      "text/plain": [
       "                      Error_Rate       AUC  Precision  Average_Precision  \\\n",
       "Category                                                                   \n",
       "Pacho Santos               0.145  0.677133   0.541667           0.317151   \n",
       "Gustavo Petro              0.185  0.799866   0.812500           0.787222   \n",
       "Germán Vargas Lleras       0.110  0.844595   0.812500           0.674375   \n",
       "\n",
       "                        Recall  \n",
       "Category                        \n",
       "Pacho Santos          0.419355  \n",
       "Gustavo Petro         0.888889  \n",
       "Germán Vargas Lleras  0.750000  "
      ]
     },
     "execution_count": 78,
     "metadata": {},
     "output_type": "execute_result"
    }
   ],
   "source": [
    "lucem_illud.evaluateClassifier(clf_nn, test_data)"
   ]
  },
  {
   "cell_type": "code",
   "execution_count": 79,
   "metadata": {},
   "outputs": [
    {
     "data": {
      "image/png": "[encoded data removed]",
      "text/plain": [
       "<Figure size 432x288 with 1 Axes>"
      ]
     },
     "metadata": {
      "needs_background": "light"
     },
     "output_type": "display_data"
    }
   ],
   "source": [
    "lucem_illud.plotConfusionMatrix(clf_nn, test_data)"
   ]
  },
  {
   "cell_type": "code",
   "execution_count": 80,
   "metadata": {},
   "outputs": [
    {
     "name": "stderr",
     "output_type": "stream",
     "text": [
      "*c* argument looks like a single numeric RGB or RGBA sequence, which should be avoided as value-mapping will have precedence in case its length matches with *x* & *y*.  Please use the *color* keyword-argument or provide a 2-D array with a single row if you intend to specify the same RGB or RGBA value for all points.\n",
      "*c* argument looks like a single numeric RGB or RGBA sequence, which should be avoided as value-mapping will have precedence in case its length matches with *x* & *y*.  Please use the *color* keyword-argument or provide a 2-D array with a single row if you intend to specify the same RGB or RGBA value for all points.\n",
      "*c* argument looks like a single numeric RGB or RGBA sequence, which should be avoided as value-mapping will have precedence in case its length matches with *x* & *y*.  Please use the *color* keyword-argument or provide a 2-D array with a single row if you intend to specify the same RGB or RGBA value for all points.\n"
     ]
    },
    {
     "data": {
      "image/png": "[encoded data removed]",
      "text/plain": [
       "<Figure size 720x720 with 1 Axes>"
      ]
     },
     "metadata": {
      "needs_background": "light"
     },
     "output_type": "display_data"
    }
   ],
   "source": [
    "lucem_illud.plotregions(clf_nn, test_data)"
   ]
  },
  {
   "cell_type": "markdown",
   "metadata": {},
   "source": [
    "### It is very interesting that the precision and recall for Gustavo Petro are the higherst. It supports the finding from week-2 that Petro has a distinctive way of expressing on Twiter. "
   ]
  }
 ],
 "metadata": {
  "kernelspec": {
   "display_name": "Python 3",
   "language": "python",
   "name": "python3"
  },
  "language_info": {
   "codemirror_mode": {
    "name": "ipython",
    "version": 3
   },
   "file_extension": ".py",
   "mimetype": "text/x-python",
   "name": "python",
   "nbconvert_exporter": "python",
   "pygments_lexer": "ipython3",
   "version": "3.8.5"
  }
 },
 "nbformat": 4,
 "nbformat_minor": 1
}
